{
 "cells": [
  {
   "cell_type": "markdown",
   "id": "82d15311-0e7e-49f4-a665-a7771c84dac9",
   "metadata": {},
   "source": [
    "# 训练图像分类识别模型的N种方法\n",
    "\n",
    "代码：https://github.com/TommyZihao/Train_Custom_Dataset\n",
    "\n",
    "2023-3-26"
   ]
  },
  {
   "cell_type": "markdown",
   "id": "016dbf0a-f8e9-4ae5-a5c7-ed5587aea593",
   "metadata": {
    "tags": []
   },
   "source": [
    "## 不用写代码\n",
    "\n",
    "- 百度飞桨EasyDL\n",
    "\n",
    "主页：https://ai.baidu.com/easydl/\n",
    "\n",
    "教程：https://www.bilibili.com/video/BV1W44y1g7cB\n",
    "\n",
    "- 华为云ModelArts一站式AI开发平台\n",
    "\n",
    "主页：https://www.huaweicloud.com/product/modelarts.html\n",
    "\n",
    "教程：https://www.bilibili.com/video/BV1xT4y1c7TW\n",
    "\n",
    "## 要写代码\n",
    "\n",
    "### 原生Pytorch\n",
    "\n",
    "-两天搞定图像分类设计完整全流程\n",
    "\n",
    "视频合集：https://space.bilibili.com/1900783/channel/collectiondetail?sid=606800\n",
    "\n",
    "1.构建自己的图像分类数据集\n",
    "\n",
    "2.预训练模型预测\n",
    "\n",
    "3.迁移学习训练新模型\n",
    "\n",
    "4.预测新图、新视频、摄像头实时预测\n",
    "\n",
    "5.在测试集评估模型性能，测试集图像语义特征降维可视化分析\n",
    "\n",
    "6.可解释性分析\n",
    "\n",
    "7.模型终端部署：本地PC、开发板、智能手机、服务器、APP、微信小程序\n",
    "\n",
    "PyTorch已经成为主流的深度学习框架。\n",
    "### Transformers\n",
    "Huggingface Classify Models\n",
    "\n"
   ]
  }
 ],
 "metadata": {
  "kernelspec": {
   "display_name": "Python 3 (ipykernel)",
   "language": "python",
   "name": "python3"
  },
  "language_info": {
   "codemirror_mode": {
    "name": "ipython",
    "version": 3
   },
   "file_extension": ".py",
   "mimetype": "text/x-python",
   "name": "python",
   "nbconvert_exporter": "python",
   "pygments_lexer": "ipython3",
   "version": "3.7.10"
  }
 },
 "nbformat": 4,
 "nbformat_minor": 5
}

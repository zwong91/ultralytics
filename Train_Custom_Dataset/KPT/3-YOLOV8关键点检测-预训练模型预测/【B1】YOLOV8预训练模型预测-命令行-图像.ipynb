{
 "cells": [
  {
   "cell_type": "markdown",
   "id": "0e07acf1-6010-4815-9c52-e793d88a2ec9",
   "metadata": {},
   "source": [
    "# YOLOV8预训练模型预测-命令行-图像\n",
    "\n",
    " 2023-4-15"
   ]
  },
  {
   "cell_type": "markdown",
   "id": "0905db45-c997-4557-a451-1fbbf635e578",
   "metadata": {},
   "source": [
    "## 目标检测预测"
   ]
  },
  {
   "cell_type": "code",
   "execution_count": 14,
   "id": "b60309dc",
   "metadata": {},
   "outputs": [
    {
     "ename": "ImportError",
     "evalue": "cannot import name '__version__' from 'ultralytics' (unknown location)",
     "output_type": "error",
     "traceback": [
      "\u001b[0;31m---------------------------------------------------------------------------\u001b[0m",
      "\u001b[0;31mImportError\u001b[0m                               Traceback (most recent call last)",
      "Cell \u001b[0;32mIn[14], line 1\u001b[0m\n\u001b[0;32m----> 1\u001b[0m \u001b[38;5;28;01mfrom\u001b[39;00m \u001b[38;5;21;01multralytics\u001b[39;00m \u001b[38;5;28;01mimport\u001b[39;00m YOLO, checks, hub\n\u001b[1;32m      2\u001b[0m checks()\n",
      "File \u001b[0;32m~/ultralytics-8.2.58/Train_Custom_Dataset/KPT/3-YOLOV8关键点检测-预训练模型预测/ultralytics/ultralytics/hub/__init__.py:5\u001b[0m\n\u001b[1;32m      1\u001b[0m \u001b[38;5;66;03m# Ultralytics YOLO 🚀, AGPL-3.0 license\u001b[39;00m\n\u001b[1;32m      3\u001b[0m \u001b[38;5;28;01mimport\u001b[39;00m \u001b[38;5;21;01mrequests\u001b[39;00m\n\u001b[0;32m----> 5\u001b[0m \u001b[38;5;28;01mfrom\u001b[39;00m \u001b[38;5;21;01multralytics\u001b[39;00m\u001b[38;5;21;01m.\u001b[39;00m\u001b[38;5;21;01mdata\u001b[39;00m\u001b[38;5;21;01m.\u001b[39;00m\u001b[38;5;21;01mutils\u001b[39;00m \u001b[38;5;28;01mimport\u001b[39;00m HUBDatasetStats\n\u001b[1;32m      6\u001b[0m \u001b[38;5;28;01mfrom\u001b[39;00m \u001b[38;5;21;01multralytics\u001b[39;00m\u001b[38;5;21;01m.\u001b[39;00m\u001b[38;5;21;01mhub\u001b[39;00m\u001b[38;5;21;01m.\u001b[39;00m\u001b[38;5;21;01mauth\u001b[39;00m \u001b[38;5;28;01mimport\u001b[39;00m Auth\n\u001b[1;32m      7\u001b[0m \u001b[38;5;28;01mfrom\u001b[39;00m \u001b[38;5;21;01multralytics\u001b[39;00m\u001b[38;5;21;01m.\u001b[39;00m\u001b[38;5;21;01mhub\u001b[39;00m\u001b[38;5;21;01m.\u001b[39;00m\u001b[38;5;21;01msession\u001b[39;00m \u001b[38;5;28;01mimport\u001b[39;00m HUBTrainingSession\n",
      "File \u001b[0;32m~/ultralytics-8.2.58/Train_Custom_Dataset/KPT/3-YOLOV8关键点检测-预训练模型预测/ultralytics/ultralytics/data/__init__.py:3\u001b[0m\n\u001b[1;32m      1\u001b[0m \u001b[38;5;66;03m# Ultralytics YOLO 🚀, AGPL-3.0 license\u001b[39;00m\n\u001b[0;32m----> 3\u001b[0m \u001b[38;5;28;01mfrom\u001b[39;00m \u001b[38;5;21;01m.\u001b[39;00m\u001b[38;5;21;01mbase\u001b[39;00m \u001b[38;5;28;01mimport\u001b[39;00m BaseDataset\n\u001b[1;32m      4\u001b[0m \u001b[38;5;28;01mfrom\u001b[39;00m \u001b[38;5;21;01m.\u001b[39;00m\u001b[38;5;21;01mbuild\u001b[39;00m \u001b[38;5;28;01mimport\u001b[39;00m build_dataloader, build_grounding, build_yolo_dataset, load_inference_source\n\u001b[1;32m      5\u001b[0m \u001b[38;5;28;01mfrom\u001b[39;00m \u001b[38;5;21;01m.\u001b[39;00m\u001b[38;5;21;01mdataset\u001b[39;00m \u001b[38;5;28;01mimport\u001b[39;00m (\n\u001b[1;32m      6\u001b[0m     ClassificationDataset,\n\u001b[1;32m      7\u001b[0m     GroundingDataset,\n\u001b[0;32m   (...)\u001b[0m\n\u001b[1;32m     11\u001b[0m     YOLOMultiModalDataset,\n\u001b[1;32m     12\u001b[0m )\n",
      "File \u001b[0;32m~/ultralytics-8.2.58/Train_Custom_Dataset/KPT/3-YOLOV8关键点检测-预训练模型预测/ultralytics/ultralytics/data/base.py:17\u001b[0m\n\u001b[1;32m     14\u001b[0m \u001b[38;5;28;01mimport\u001b[39;00m \u001b[38;5;21;01mpsutil\u001b[39;00m\n\u001b[1;32m     15\u001b[0m \u001b[38;5;28;01mfrom\u001b[39;00m \u001b[38;5;21;01mtorch\u001b[39;00m\u001b[38;5;21;01m.\u001b[39;00m\u001b[38;5;21;01mutils\u001b[39;00m\u001b[38;5;21;01m.\u001b[39;00m\u001b[38;5;21;01mdata\u001b[39;00m \u001b[38;5;28;01mimport\u001b[39;00m Dataset\n\u001b[0;32m---> 17\u001b[0m \u001b[38;5;28;01mfrom\u001b[39;00m \u001b[38;5;21;01multralytics\u001b[39;00m\u001b[38;5;21;01m.\u001b[39;00m\u001b[38;5;21;01mdata\u001b[39;00m\u001b[38;5;21;01m.\u001b[39;00m\u001b[38;5;21;01mutils\u001b[39;00m \u001b[38;5;28;01mimport\u001b[39;00m FORMATS_HELP_MSG, HELP_URL, IMG_FORMATS\n\u001b[1;32m     18\u001b[0m \u001b[38;5;28;01mfrom\u001b[39;00m \u001b[38;5;21;01multralytics\u001b[39;00m\u001b[38;5;21;01m.\u001b[39;00m\u001b[38;5;21;01mutils\u001b[39;00m \u001b[38;5;28;01mimport\u001b[39;00m DEFAULT_CFG, LOCAL_RANK, LOGGER, NUM_THREADS, TQDM\n\u001b[1;32m     21\u001b[0m \u001b[38;5;28;01mclass\u001b[39;00m \u001b[38;5;21;01mBaseDataset\u001b[39;00m(Dataset):\n",
      "File \u001b[0;32m~/ultralytics-8.2.58/Train_Custom_Dataset/KPT/3-YOLOV8关键点检测-预训练模型预测/ultralytics/ultralytics/data/utils.py:19\u001b[0m\n\u001b[1;32m     16\u001b[0m \u001b[38;5;28;01mimport\u001b[39;00m \u001b[38;5;21;01mnumpy\u001b[39;00m \u001b[38;5;28;01mas\u001b[39;00m \u001b[38;5;21;01mnp\u001b[39;00m\n\u001b[1;32m     17\u001b[0m \u001b[38;5;28;01mfrom\u001b[39;00m \u001b[38;5;21;01mPIL\u001b[39;00m \u001b[38;5;28;01mimport\u001b[39;00m Image, ImageOps\n\u001b[0;32m---> 19\u001b[0m \u001b[38;5;28;01mfrom\u001b[39;00m \u001b[38;5;21;01multralytics\u001b[39;00m\u001b[38;5;21;01m.\u001b[39;00m\u001b[38;5;21;01mnn\u001b[39;00m\u001b[38;5;21;01m.\u001b[39;00m\u001b[38;5;21;01mautobackend\u001b[39;00m \u001b[38;5;28;01mimport\u001b[39;00m check_class_names\n\u001b[1;32m     20\u001b[0m \u001b[38;5;28;01mfrom\u001b[39;00m \u001b[38;5;21;01multralytics\u001b[39;00m\u001b[38;5;21;01m.\u001b[39;00m\u001b[38;5;21;01mutils\u001b[39;00m \u001b[38;5;28;01mimport\u001b[39;00m (\n\u001b[1;32m     21\u001b[0m     DATASETS_DIR,\n\u001b[1;32m     22\u001b[0m     LOGGER,\n\u001b[0;32m   (...)\u001b[0m\n\u001b[1;32m     32\u001b[0m     yaml_save,\n\u001b[1;32m     33\u001b[0m )\n\u001b[1;32m     34\u001b[0m \u001b[38;5;28;01mfrom\u001b[39;00m \u001b[38;5;21;01multralytics\u001b[39;00m\u001b[38;5;21;01m.\u001b[39;00m\u001b[38;5;21;01mutils\u001b[39;00m\u001b[38;5;21;01m.\u001b[39;00m\u001b[38;5;21;01mchecks\u001b[39;00m \u001b[38;5;28;01mimport\u001b[39;00m check_file, check_font, is_ascii\n",
      "File \u001b[0;32m~/ultralytics-8.2.58/Train_Custom_Dataset/KPT/3-YOLOV8关键点检测-预训练模型预测/ultralytics/ultralytics/nn/__init__.py:3\u001b[0m\n\u001b[1;32m      1\u001b[0m \u001b[38;5;66;03m# Ultralytics YOLO 🚀, AGPL-3.0 license\u001b[39;00m\n\u001b[0;32m----> 3\u001b[0m \u001b[38;5;28;01mfrom\u001b[39;00m \u001b[38;5;21;01m.\u001b[39;00m\u001b[38;5;21;01mtasks\u001b[39;00m \u001b[38;5;28;01mimport\u001b[39;00m (\n\u001b[1;32m      4\u001b[0m     BaseModel,\n\u001b[1;32m      5\u001b[0m     ClassificationModel,\n\u001b[1;32m      6\u001b[0m     DetectionModel,\n\u001b[1;32m      7\u001b[0m     SegmentationModel,\n\u001b[1;32m      8\u001b[0m     attempt_load_one_weight,\n\u001b[1;32m      9\u001b[0m     attempt_load_weights,\n\u001b[1;32m     10\u001b[0m     guess_model_scale,\n\u001b[1;32m     11\u001b[0m     guess_model_task,\n\u001b[1;32m     12\u001b[0m     parse_model,\n\u001b[1;32m     13\u001b[0m     torch_safe_load,\n\u001b[1;32m     14\u001b[0m     yaml_model_load,\n\u001b[1;32m     15\u001b[0m )\n\u001b[1;32m     17\u001b[0m __all__ \u001b[38;5;241m=\u001b[39m (\n\u001b[1;32m     18\u001b[0m     \u001b[38;5;124m\"\u001b[39m\u001b[38;5;124mattempt_load_one_weight\u001b[39m\u001b[38;5;124m\"\u001b[39m,\n\u001b[1;32m     19\u001b[0m     \u001b[38;5;124m\"\u001b[39m\u001b[38;5;124mattempt_load_weights\u001b[39m\u001b[38;5;124m\"\u001b[39m,\n\u001b[0;32m   (...)\u001b[0m\n\u001b[1;32m     28\u001b[0m     \u001b[38;5;124m\"\u001b[39m\u001b[38;5;124mBaseModel\u001b[39m\u001b[38;5;124m\"\u001b[39m,\n\u001b[1;32m     29\u001b[0m )\n",
      "File \u001b[0;32m~/ultralytics-8.2.58/Train_Custom_Dataset/KPT/3-YOLOV8关键点检测-预训练模型预测/ultralytics/ultralytics/nn/tasks.py:10\u001b[0m\n\u001b[1;32m      7\u001b[0m \u001b[38;5;28;01mimport\u001b[39;00m \u001b[38;5;21;01mtorch\u001b[39;00m\n\u001b[1;32m      8\u001b[0m \u001b[38;5;28;01mimport\u001b[39;00m \u001b[38;5;21;01mtorch\u001b[39;00m\u001b[38;5;21;01m.\u001b[39;00m\u001b[38;5;21;01mnn\u001b[39;00m \u001b[38;5;28;01mas\u001b[39;00m \u001b[38;5;21;01mnn\u001b[39;00m\n\u001b[0;32m---> 10\u001b[0m \u001b[38;5;28;01mfrom\u001b[39;00m \u001b[38;5;21;01multralytics\u001b[39;00m\u001b[38;5;21;01m.\u001b[39;00m\u001b[38;5;21;01mnn\u001b[39;00m\u001b[38;5;21;01m.\u001b[39;00m\u001b[38;5;21;01mmodules\u001b[39;00m \u001b[38;5;28;01mimport\u001b[39;00m (\n\u001b[1;32m     11\u001b[0m     AIFI,\n\u001b[1;32m     12\u001b[0m     C1,\n\u001b[1;32m     13\u001b[0m     C2,\n\u001b[1;32m     14\u001b[0m     C3,\n\u001b[1;32m     15\u001b[0m     C3TR,\n\u001b[1;32m     16\u001b[0m     ELAN1,\n\u001b[1;32m     17\u001b[0m     OBB,\n\u001b[1;32m     18\u001b[0m     PSA,\n\u001b[1;32m     19\u001b[0m     SPP,\n\u001b[1;32m     20\u001b[0m     SPPELAN,\n\u001b[1;32m     21\u001b[0m     SPPF,\n\u001b[1;32m     22\u001b[0m     AConv,\n\u001b[1;32m     23\u001b[0m     ADown,\n\u001b[1;32m     24\u001b[0m     Bottleneck,\n\u001b[1;32m     25\u001b[0m     BottleneckCSP,\n\u001b[1;32m     26\u001b[0m     C2f,\n\u001b[1;32m     27\u001b[0m     C2fAttn,\n\u001b[1;32m     28\u001b[0m     C2fCIB,\n\u001b[1;32m     29\u001b[0m     C3Ghost,\n\u001b[1;32m     30\u001b[0m     C3x,\n\u001b[1;32m     31\u001b[0m     CBFuse,\n\u001b[1;32m     32\u001b[0m     CBLinear,\n\u001b[1;32m     33\u001b[0m     Classify,\n\u001b[1;32m     34\u001b[0m     Concat,\n\u001b[1;32m     35\u001b[0m     Conv,\n\u001b[1;32m     36\u001b[0m     Conv2,\n\u001b[1;32m     37\u001b[0m     ConvTranspose,\n\u001b[1;32m     38\u001b[0m     Detect,\n\u001b[1;32m     39\u001b[0m     DWConv,\n\u001b[1;32m     40\u001b[0m     DWConvTranspose2d,\n\u001b[1;32m     41\u001b[0m     Focus,\n\u001b[1;32m     42\u001b[0m     GhostBottleneck,\n\u001b[1;32m     43\u001b[0m     GhostConv,\n\u001b[1;32m     44\u001b[0m     HGBlock,\n\u001b[1;32m     45\u001b[0m     HGStem,\n\u001b[1;32m     46\u001b[0m     ImagePoolingAttn,\n\u001b[1;32m     47\u001b[0m     Pose,\n\u001b[1;32m     48\u001b[0m     RepC3,\n\u001b[1;32m     49\u001b[0m     RepConv,\n\u001b[1;32m     50\u001b[0m     RepNCSPELAN4,\n\u001b[1;32m     51\u001b[0m     RepVGGDW,\n\u001b[1;32m     52\u001b[0m     ResNetLayer,\n\u001b[1;32m     53\u001b[0m     RTDETRDecoder,\n\u001b[1;32m     54\u001b[0m     SCDown,\n\u001b[1;32m     55\u001b[0m     Segment,\n\u001b[1;32m     56\u001b[0m     WorldDetect,\n\u001b[1;32m     57\u001b[0m     v10Detect,\n\u001b[1;32m     58\u001b[0m )\n\u001b[1;32m     59\u001b[0m \u001b[38;5;28;01mfrom\u001b[39;00m \u001b[38;5;21;01multralytics\u001b[39;00m\u001b[38;5;21;01m.\u001b[39;00m\u001b[38;5;21;01mutils\u001b[39;00m \u001b[38;5;28;01mimport\u001b[39;00m DEFAULT_CFG_DICT, DEFAULT_CFG_KEYS, LOGGER, colorstr, emojis, yaml_load\n\u001b[1;32m     60\u001b[0m \u001b[38;5;28;01mfrom\u001b[39;00m \u001b[38;5;21;01multralytics\u001b[39;00m\u001b[38;5;21;01m.\u001b[39;00m\u001b[38;5;21;01mutils\u001b[39;00m\u001b[38;5;21;01m.\u001b[39;00m\u001b[38;5;21;01mchecks\u001b[39;00m \u001b[38;5;28;01mimport\u001b[39;00m check_requirements, check_suffix, check_yaml\n",
      "File \u001b[0;32m~/ultralytics-8.2.58/Train_Custom_Dataset/KPT/3-YOLOV8关键点检测-预训练模型预测/ultralytics/ultralytics/nn/modules/__init__.py:20\u001b[0m\n\u001b[1;32m      1\u001b[0m \u001b[38;5;66;03m# Ultralytics YOLO 🚀, AGPL-3.0 license\u001b[39;00m\n\u001b[1;32m      2\u001b[0m \u001b[38;5;124;03m\"\"\"\u001b[39;00m\n\u001b[1;32m      3\u001b[0m \u001b[38;5;124;03mUltralytics modules.\u001b[39;00m\n\u001b[1;32m      4\u001b[0m \n\u001b[0;32m   (...)\u001b[0m\n\u001b[1;32m     17\u001b[0m \u001b[38;5;124;03m    ```\u001b[39;00m\n\u001b[1;32m     18\u001b[0m \u001b[38;5;124;03m\"\"\"\u001b[39;00m\n\u001b[0;32m---> 20\u001b[0m \u001b[38;5;28;01mfrom\u001b[39;00m \u001b[38;5;21;01m.\u001b[39;00m\u001b[38;5;21;01mblock\u001b[39;00m \u001b[38;5;28;01mimport\u001b[39;00m (\n\u001b[1;32m     21\u001b[0m     C1,\n\u001b[1;32m     22\u001b[0m     C2,\n\u001b[1;32m     23\u001b[0m     C3,\n\u001b[1;32m     24\u001b[0m     C3TR,\n\u001b[1;32m     25\u001b[0m     CIB,\n\u001b[1;32m     26\u001b[0m     DFL,\n\u001b[1;32m     27\u001b[0m     ELAN1,\n\u001b[1;32m     28\u001b[0m     PSA,\n\u001b[1;32m     29\u001b[0m     SPP,\n\u001b[1;32m     30\u001b[0m     SPPELAN,\n\u001b[1;32m     31\u001b[0m     SPPF,\n\u001b[1;32m     32\u001b[0m     AConv,\n\u001b[1;32m     33\u001b[0m     ADown,\n\u001b[1;32m     34\u001b[0m     Attention,\n\u001b[1;32m     35\u001b[0m     BNContrastiveHead,\n\u001b[1;32m     36\u001b[0m     Bottleneck,\n\u001b[1;32m     37\u001b[0m     BottleneckCSP,\n\u001b[1;32m     38\u001b[0m     C2f,\n\u001b[1;32m     39\u001b[0m     C2fAttn,\n\u001b[1;32m     40\u001b[0m     C2fCIB,\n\u001b[1;32m     41\u001b[0m     C3Ghost,\n\u001b[1;32m     42\u001b[0m     C3x,\n\u001b[1;32m     43\u001b[0m     CBFuse,\n\u001b[1;32m     44\u001b[0m     CBLinear,\n\u001b[1;32m     45\u001b[0m     ContrastiveHead,\n\u001b[1;32m     46\u001b[0m     GhostBottleneck,\n\u001b[1;32m     47\u001b[0m     HGBlock,\n\u001b[1;32m     48\u001b[0m     HGStem,\n\u001b[1;32m     49\u001b[0m     ImagePoolingAttn,\n\u001b[1;32m     50\u001b[0m     Proto,\n\u001b[1;32m     51\u001b[0m     RepC3,\n\u001b[1;32m     52\u001b[0m     RepNCSPELAN4,\n\u001b[1;32m     53\u001b[0m     RepVGGDW,\n\u001b[1;32m     54\u001b[0m     ResNetLayer,\n\u001b[1;32m     55\u001b[0m     SCDown,\n\u001b[1;32m     56\u001b[0m )\n\u001b[1;32m     57\u001b[0m \u001b[38;5;28;01mfrom\u001b[39;00m \u001b[38;5;21;01m.\u001b[39;00m\u001b[38;5;21;01mconv\u001b[39;00m \u001b[38;5;28;01mimport\u001b[39;00m (\n\u001b[1;32m     58\u001b[0m     CBAM,\n\u001b[1;32m     59\u001b[0m     ChannelAttention,\n\u001b[0;32m   (...)\u001b[0m\n\u001b[1;32m     70\u001b[0m     SpatialAttention,\n\u001b[1;32m     71\u001b[0m )\n\u001b[1;32m     72\u001b[0m \u001b[38;5;28;01mfrom\u001b[39;00m \u001b[38;5;21;01m.\u001b[39;00m\u001b[38;5;21;01mhead\u001b[39;00m \u001b[38;5;28;01mimport\u001b[39;00m OBB, Classify, Detect, Pose, RTDETRDecoder, Segment, WorldDetect, v10Detect\n",
      "File \u001b[0;32m~/ultralytics-8.2.58/Train_Custom_Dataset/KPT/3-YOLOV8关键点检测-预训练模型预测/ultralytics/ultralytics/nn/modules/block.py:8\u001b[0m\n\u001b[1;32m      5\u001b[0m \u001b[38;5;28;01mimport\u001b[39;00m \u001b[38;5;21;01mtorch\u001b[39;00m\u001b[38;5;21;01m.\u001b[39;00m\u001b[38;5;21;01mnn\u001b[39;00m \u001b[38;5;28;01mas\u001b[39;00m \u001b[38;5;21;01mnn\u001b[39;00m\n\u001b[1;32m      6\u001b[0m \u001b[38;5;28;01mimport\u001b[39;00m \u001b[38;5;21;01mtorch\u001b[39;00m\u001b[38;5;21;01m.\u001b[39;00m\u001b[38;5;21;01mnn\u001b[39;00m\u001b[38;5;21;01m.\u001b[39;00m\u001b[38;5;21;01mfunctional\u001b[39;00m \u001b[38;5;28;01mas\u001b[39;00m \u001b[38;5;21;01mF\u001b[39;00m\n\u001b[0;32m----> 8\u001b[0m \u001b[38;5;28;01mfrom\u001b[39;00m \u001b[38;5;21;01multralytics\u001b[39;00m\u001b[38;5;21;01m.\u001b[39;00m\u001b[38;5;21;01mutils\u001b[39;00m\u001b[38;5;21;01m.\u001b[39;00m\u001b[38;5;21;01mtorch_utils\u001b[39;00m \u001b[38;5;28;01mimport\u001b[39;00m fuse_conv_and_bn\n\u001b[1;32m     10\u001b[0m \u001b[38;5;28;01mfrom\u001b[39;00m \u001b[38;5;21;01m.\u001b[39;00m\u001b[38;5;21;01mconv\u001b[39;00m \u001b[38;5;28;01mimport\u001b[39;00m Conv, DWConv, GhostConv, LightConv, RepConv, autopad\n\u001b[1;32m     11\u001b[0m \u001b[38;5;28;01mfrom\u001b[39;00m \u001b[38;5;21;01m.\u001b[39;00m\u001b[38;5;21;01mtransformer\u001b[39;00m \u001b[38;5;28;01mimport\u001b[39;00m TransformerBlock\n",
      "File \u001b[0;32m~/ultralytics-8.2.58/Train_Custom_Dataset/KPT/3-YOLOV8关键点检测-预训练模型预测/ultralytics/ultralytics/utils/__init__.py:27\u001b[0m\n\u001b[1;32m     24\u001b[0m \u001b[38;5;28;01mimport\u001b[39;00m \u001b[38;5;21;01myaml\u001b[39;00m\n\u001b[1;32m     25\u001b[0m \u001b[38;5;28;01mfrom\u001b[39;00m \u001b[38;5;21;01mtqdm\u001b[39;00m \u001b[38;5;28;01mimport\u001b[39;00m tqdm \u001b[38;5;28;01mas\u001b[39;00m tqdm_original\n\u001b[0;32m---> 27\u001b[0m \u001b[38;5;28;01mfrom\u001b[39;00m \u001b[38;5;21;01multralytics\u001b[39;00m \u001b[38;5;28;01mimport\u001b[39;00m __version__\n\u001b[1;32m     29\u001b[0m \u001b[38;5;66;03m# PyTorch Multi-GPU DDP Constants\u001b[39;00m\n\u001b[1;32m     30\u001b[0m RANK \u001b[38;5;241m=\u001b[39m \u001b[38;5;28mint\u001b[39m(os\u001b[38;5;241m.\u001b[39mgetenv(\u001b[38;5;124m\"\u001b[39m\u001b[38;5;124mRANK\u001b[39m\u001b[38;5;124m\"\u001b[39m, \u001b[38;5;241m-\u001b[39m\u001b[38;5;241m1\u001b[39m))\n",
      "\u001b[0;31mImportError\u001b[0m: cannot import name '__version__' from 'ultralytics' (unknown location)"
     ]
    }
   ],
   "source": [
    "from ultralytics import YOLO, checks, hub\n",
    "checks()"
   ]
  },
  {
   "cell_type": "code",
   "execution_count": 11,
   "id": "2b780f10-6151-46e3-b743-c346a44e630d",
   "metadata": {},
   "outputs": [
    {
     "ename": "ImportError",
     "evalue": "cannot import name 'YOLO' from 'ultralytics' (unknown location)",
     "output_type": "error",
     "traceback": [
      "\u001b[0;31m---------------------------------------------------------------------------\u001b[0m",
      "\u001b[0;31mImportError\u001b[0m                               Traceback (most recent call last)",
      "Cell \u001b[0;32mIn[11], line 1\u001b[0m\n\u001b[0;32m----> 1\u001b[0m \u001b[38;5;28;01mfrom\u001b[39;00m \u001b[38;5;21;01multralytics\u001b[39;00m \u001b[38;5;28;01mimport\u001b[39;00m YOLO\n\u001b[1;32m      2\u001b[0m get_ipython()\u001b[38;5;241m.\u001b[39msystem(\u001b[38;5;124m'\u001b[39m\u001b[38;5;124myolo detect predict model=../models/yolov8_s_poker.pt source=images/poker-QKA.jpg\u001b[39m\u001b[38;5;124m'\u001b[39m)\n",
      "\u001b[0;31mImportError\u001b[0m: cannot import name 'YOLO' from 'ultralytics' (unknown location)"
     ]
    }
   ],
   "source": [
    "!yolo detect predict model=../models/yolov8_s_poker.pt source=images/poker-QKA.jpg"
   ]
  },
  {
   "cell_type": "markdown",
   "id": "6a001288-13be-4da3-8aee-25b488c62c39",
   "metadata": {},
   "source": [
    "## 图像分割预测"
   ]
  },
  {
   "cell_type": "code",
   "execution_count": 2,
   "id": "e14c3aa9-7c01-4877-9c61-b8eb6bfd0467",
   "metadata": {},
   "outputs": [],
   "source": [
    "# !yolo segment predict model=yolov8x-seg.pt source=images/zihao_table.jpg device=0"
   ]
  },
  {
   "cell_type": "markdown",
   "id": "f78a2b9e-3220-4aa9-bfa5-1094add0e5f2",
   "metadata": {},
   "source": [
    "## 图像分类预测"
   ]
  },
  {
   "cell_type": "code",
   "execution_count": 3,
   "id": "d86ad26d-e679-4ac7-b2d4-0401d949f6eb",
   "metadata": {},
   "outputs": [],
   "source": [
    "# !yolo classify predict model=yolov8x-cls.pt source=images/husky1.jpeg device=0"
   ]
  },
  {
   "cell_type": "markdown",
   "id": "9e677bfc-dbfa-40d8-b0fd-afa2f27783b1",
   "metadata": {},
   "source": [
    "## 人体姿态估计（关键点检测）预测"
   ]
  },
  {
   "cell_type": "code",
   "execution_count": 6,
   "id": "4a19c899-ac1b-4e05-9c52-f6b0f97db965",
   "metadata": {},
   "outputs": [
    {
     "name": "stdout",
     "output_type": "stream",
     "text": [
      "Downloading https://github.com/ultralytics/assets/releases/download/v0.0.0/yolov8x-pose-p6.pt to yolov8x-pose-p6.pt...\n",
      "100%|█████████████████████████████████████████| 190M/190M [00:01<00:00, 107MB/s]\n",
      "Ultralytics YOLOv8.0.87 🚀 Python-3.7.10 torch-1.10.0+cu113 CUDA:0 (NVIDIA GeForce RTX 3060, 12053MiB)\n",
      "YOLOv8x-pose-p6 summary (fused): 375 layers, 99141280 parameters, 0 gradients, 266.6 GFLOPs\n",
      "\n",
      "image 1/1 /home/featurize/work/两天搞定关键点检测毕业设计/3-【YOLOV8】关键点检测/images/multi-person.jpeg: 768x1280 14 persons, 99.6ms\n",
      "Speed: 0.8ms preprocess, 99.6ms inference, 3.2ms postprocess per image at shape (1, 3, 1280, 1280)\n",
      "Results saved to \u001b[1mruns/pose/predict\u001b[0m\n"
     ]
    }
   ],
   "source": [
    "!yolo pose predict model=yolov8x-pose-p6.pt source=images/multi-person.jpeg device=0"
   ]
  },
  {
   "cell_type": "markdown",
   "id": "db02832b-357d-4254-82c6-4de0ba137023",
   "metadata": {},
   "source": [
    "## 预测结果保存在`runs`目录"
   ]
  },
  {
   "cell_type": "markdown",
   "id": "cde7f223-197c-46dd-a801-f9bea061fbae",
   "metadata": {},
   "source": [
    "- 备用关键点检测预训练模型\n",
    "\n",
    "yolov8n-pose.pt\n",
    "\n",
    "yolov8s-pose.pt\n",
    "\n",
    "yolov8m-pose.pt\n",
    "\n",
    "yolov8l-pose.pt\n",
    "\n",
    "yolov8x-pose.pt\n",
    "\n",
    "yolov8x-pose-p6.pt"
   ]
  },
  {
   "cell_type": "code",
   "execution_count": null,
   "id": "344846a6-4303-4ec5-bac4-20506e02a36b",
   "metadata": {},
   "outputs": [],
   "source": []
  }
 ],
 "metadata": {
  "kernelspec": {
   "display_name": "Python 3 (ipykernel)",
   "language": "python",
   "name": "python3"
  },
  "language_info": {
   "codemirror_mode": {
    "name": "ipython",
    "version": 3
   },
   "file_extension": ".py",
   "mimetype": "text/x-python",
   "name": "python",
   "nbconvert_exporter": "python",
   "pygments_lexer": "ipython3",
   "version": "3.10.14"
  }
 },
 "nbformat": 4,
 "nbformat_minor": 5
}

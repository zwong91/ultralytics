{
 "cells": [
  {
   "cell_type": "markdown",
   "id": "0e07acf1-6010-4815-9c52-e793d88a2ec9",
   "metadata": {},
   "source": [
    "# YOLOV8预训练模型预测-命令行-图像\n",
    "\n",
    " 2023-4-15"
   ]
  },
  {
   "cell_type": "markdown",
   "id": "0905db45-c997-4557-a451-1fbbf635e578",
   "metadata": {},
   "source": [
    "## 目标检测预测"
   ]
  },
  {
   "cell_type": "code",
   "execution_count": 5,
   "id": "b60309dc",
   "metadata": {},
   "outputs": [
    {
     "name": "stdout",
     "output_type": "stream",
     "text": [
      "Looking in indexes: https://pypi.tuna.tsinghua.edu.cn/simple\n",
      "Requirement already satisfied: ultralytics in /Users/es/miniconda3/envs/ultralytics/lib/python3.10/site-packages (8.2.58)\n",
      "Requirement already satisfied: numpy<2.0.0,>=1.23.0 in /Users/es/miniconda3/envs/ultralytics/lib/python3.10/site-packages (from ultralytics) (1.26.4)\n",
      "Requirement already satisfied: matplotlib>=3.3.0 in /Users/es/miniconda3/envs/ultralytics/lib/python3.10/site-packages (from ultralytics) (3.9.1)\n",
      "Requirement already satisfied: opencv-python>=4.6.0 in /Users/es/miniconda3/envs/ultralytics/lib/python3.10/site-packages (from ultralytics) (4.10.0.84)\n",
      "Requirement already satisfied: pillow>=7.1.2 in /Users/es/miniconda3/envs/ultralytics/lib/python3.10/site-packages (from ultralytics) (10.4.0)\n",
      "Requirement already satisfied: pyyaml>=5.3.1 in /Users/es/miniconda3/envs/ultralytics/lib/python3.10/site-packages (from ultralytics) (6.0.1)\n",
      "Requirement already satisfied: requests>=2.23.0 in /Users/es/miniconda3/envs/ultralytics/lib/python3.10/site-packages (from ultralytics) (2.32.3)\n",
      "Requirement already satisfied: scipy>=1.4.1 in /Users/es/miniconda3/envs/ultralytics/lib/python3.10/site-packages (from ultralytics) (1.14.0)\n",
      "Requirement already satisfied: torch>=1.8.0 in /Users/es/miniconda3/envs/ultralytics/lib/python3.10/site-packages (from ultralytics) (2.3.1)\n",
      "Requirement already satisfied: torchvision>=0.9.0 in /Users/es/miniconda3/envs/ultralytics/lib/python3.10/site-packages (from ultralytics) (0.18.1)\n",
      "Requirement already satisfied: tqdm>=4.64.0 in /Users/es/miniconda3/envs/ultralytics/lib/python3.10/site-packages (from ultralytics) (4.66.4)\n",
      "Requirement already satisfied: psutil in /Users/es/miniconda3/envs/ultralytics/lib/python3.10/site-packages (from ultralytics) (5.9.0)\n",
      "Requirement already satisfied: py-cpuinfo in /Users/es/miniconda3/envs/ultralytics/lib/python3.10/site-packages (from ultralytics) (9.0.0)\n",
      "Requirement already satisfied: pandas>=1.1.4 in /Users/es/miniconda3/envs/ultralytics/lib/python3.10/site-packages (from ultralytics) (2.2.2)\n",
      "Requirement already satisfied: seaborn>=0.11.0 in /Users/es/miniconda3/envs/ultralytics/lib/python3.10/site-packages (from ultralytics) (0.13.2)\n",
      "Requirement already satisfied: ultralytics-thop>=2.0.0 in /Users/es/miniconda3/envs/ultralytics/lib/python3.10/site-packages (from ultralytics) (2.0.0)\n",
      "Requirement already satisfied: contourpy>=1.0.1 in /Users/es/miniconda3/envs/ultralytics/lib/python3.10/site-packages (from matplotlib>=3.3.0->ultralytics) (1.2.1)\n",
      "Requirement already satisfied: cycler>=0.10 in /Users/es/miniconda3/envs/ultralytics/lib/python3.10/site-packages (from matplotlib>=3.3.0->ultralytics) (0.12.1)\n",
      "Requirement already satisfied: fonttools>=4.22.0 in /Users/es/miniconda3/envs/ultralytics/lib/python3.10/site-packages (from matplotlib>=3.3.0->ultralytics) (4.53.1)\n",
      "Requirement already satisfied: kiwisolver>=1.3.1 in /Users/es/miniconda3/envs/ultralytics/lib/python3.10/site-packages (from matplotlib>=3.3.0->ultralytics) (1.4.5)\n",
      "Requirement already satisfied: packaging>=20.0 in /Users/es/miniconda3/envs/ultralytics/lib/python3.10/site-packages (from matplotlib>=3.3.0->ultralytics) (24.1)\n",
      "Requirement already satisfied: pyparsing>=2.3.1 in /Users/es/miniconda3/envs/ultralytics/lib/python3.10/site-packages (from matplotlib>=3.3.0->ultralytics) (3.1.2)\n",
      "Requirement already satisfied: python-dateutil>=2.7 in /Users/es/miniconda3/envs/ultralytics/lib/python3.10/site-packages (from matplotlib>=3.3.0->ultralytics) (2.9.0)\n",
      "Requirement already satisfied: pytz>=2020.1 in /Users/es/miniconda3/envs/ultralytics/lib/python3.10/site-packages (from pandas>=1.1.4->ultralytics) (2024.1)\n",
      "Requirement already satisfied: tzdata>=2022.7 in /Users/es/miniconda3/envs/ultralytics/lib/python3.10/site-packages (from pandas>=1.1.4->ultralytics) (2024.1)\n",
      "Requirement already satisfied: charset-normalizer<4,>=2 in /Users/es/miniconda3/envs/ultralytics/lib/python3.10/site-packages (from requests>=2.23.0->ultralytics) (3.3.2)\n",
      "Requirement already satisfied: idna<4,>=2.5 in /Users/es/miniconda3/envs/ultralytics/lib/python3.10/site-packages (from requests>=2.23.0->ultralytics) (3.7)\n",
      "Requirement already satisfied: urllib3<3,>=1.21.1 in /Users/es/miniconda3/envs/ultralytics/lib/python3.10/site-packages (from requests>=2.23.0->ultralytics) (2.2.2)\n",
      "Requirement already satisfied: certifi>=2017.4.17 in /Users/es/miniconda3/envs/ultralytics/lib/python3.10/site-packages (from requests>=2.23.0->ultralytics) (2024.7.4)\n",
      "Requirement already satisfied: filelock in /Users/es/miniconda3/envs/ultralytics/lib/python3.10/site-packages (from torch>=1.8.0->ultralytics) (3.15.4)\n",
      "Requirement already satisfied: typing-extensions>=4.8.0 in /Users/es/miniconda3/envs/ultralytics/lib/python3.10/site-packages (from torch>=1.8.0->ultralytics) (4.12.2)\n",
      "Requirement already satisfied: sympy in /Users/es/miniconda3/envs/ultralytics/lib/python3.10/site-packages (from torch>=1.8.0->ultralytics) (1.13.0)\n",
      "Requirement already satisfied: networkx in /Users/es/miniconda3/envs/ultralytics/lib/python3.10/site-packages (from torch>=1.8.0->ultralytics) (3.3)\n",
      "Requirement already satisfied: jinja2 in /Users/es/miniconda3/envs/ultralytics/lib/python3.10/site-packages (from torch>=1.8.0->ultralytics) (3.1.4)\n",
      "Requirement already satisfied: fsspec in /Users/es/miniconda3/envs/ultralytics/lib/python3.10/site-packages (from torch>=1.8.0->ultralytics) (2024.6.1)\n",
      "Requirement already satisfied: six>=1.5 in /Users/es/miniconda3/envs/ultralytics/lib/python3.10/site-packages (from python-dateutil>=2.7->matplotlib>=3.3.0->ultralytics) (1.16.0)\n",
      "Requirement already satisfied: MarkupSafe>=2.0 in /Users/es/miniconda3/envs/ultralytics/lib/python3.10/site-packages (from jinja2->torch>=1.8.0->ultralytics) (2.1.5)\n",
      "Requirement already satisfied: mpmath<1.4,>=1.1.0 in /Users/es/miniconda3/envs/ultralytics/lib/python3.10/site-packages (from sympy->torch>=1.8.0->ultralytics) (1.3.0)\n",
      "Note: you may need to restart the kernel to use updated packages.\n"
     ]
    }
   ],
   "source": [
    "%pip install ultralytics --upgrade -i https://pypi.tuna.tsinghua.edu.cn/simple"
   ]
  },
  {
   "cell_type": "code",
   "execution_count": 7,
   "id": "2b780f10-6151-46e3-b743-c346a44e630d",
   "metadata": {},
   "outputs": [
    {
     "name": "stdout",
     "output_type": "stream",
     "text": [
      "Ultralytics YOLOv8.2.58 🚀 Python-3.10.14 torch-2.3.1 CPU (Apple M2)\n",
      "Model summary (fused): 168 layers, 11,145,708 parameters, 0 gradients, 28.5 GFLOPs\n",
      "\n",
      "Downloading https://ultralytics.com/assets/Arial.Unicode.ttf to '/Users/es/Library/Application Support/Ultralytics/Arial.Unicode.ttf'...\n",
      "100%|███████████████████████████████████████| 22.2M/22.2M [01:11<00:00, 326kB/s]\n",
      "image 1/1 /Users/es/ultralytics-8.2.58/Train_Custom_Dataset/KPT/3-YOLOV8关键点检测-预训练模型预测/images/poker-QKA.jpg: 640x640 2 A方块s, 1 K梅花, 1 Q梅花, 249.1ms\n",
      "Speed: 2.5ms preprocess, 249.1ms inference, 0.5ms postprocess per image at shape (1, 3, 640, 640)\n",
      "Results saved to \u001b[1m/Users/es/ultralytics-8.2.58/runs/detect/predict2\u001b[0m\n",
      "💡 Learn more at https://docs.ultralytics.com/modes/predict\n"
     ]
    }
   ],
   "source": [
    "!yolo detect predict model=../models/yolov8_s_poker.pt source=images/poker-QKA.jpg"
   ]
  },
  {
   "cell_type": "markdown",
   "id": "6a001288-13be-4da3-8aee-25b488c62c39",
   "metadata": {},
   "source": [
    "## 图像分割预测"
   ]
  },
  {
   "cell_type": "code",
   "execution_count": 2,
   "id": "e14c3aa9-7c01-4877-9c61-b8eb6bfd0467",
   "metadata": {},
   "outputs": [],
   "source": [
    "# !yolo segment predict model=yolov8x-seg.pt source=images/zihao_table.jpg device=0"
   ]
  },
  {
   "cell_type": "markdown",
   "id": "f78a2b9e-3220-4aa9-bfa5-1094add0e5f2",
   "metadata": {},
   "source": [
    "## 图像分类预测"
   ]
  },
  {
   "cell_type": "code",
   "execution_count": 3,
   "id": "d86ad26d-e679-4ac7-b2d4-0401d949f6eb",
   "metadata": {},
   "outputs": [],
   "source": [
    "# !yolo classify predict model=yolov8x-cls.pt source=images/husky1.jpeg device=0"
   ]
  },
  {
   "cell_type": "markdown",
   "id": "9e677bfc-dbfa-40d8-b0fd-afa2f27783b1",
   "metadata": {},
   "source": [
    "## 人体姿态估计（关键点检测）预测"
   ]
  },
  {
   "cell_type": "code",
   "execution_count": 6,
   "id": "4a19c899-ac1b-4e05-9c52-f6b0f97db965",
   "metadata": {},
   "outputs": [
    {
     "name": "stdout",
     "output_type": "stream",
     "text": [
      "Downloading https://github.com/ultralytics/assets/releases/download/v0.0.0/yolov8x-pose-p6.pt to yolov8x-pose-p6.pt...\n",
      "100%|█████████████████████████████████████████| 190M/190M [00:01<00:00, 107MB/s]\n",
      "Ultralytics YOLOv8.0.87 🚀 Python-3.7.10 torch-1.10.0+cu113 CUDA:0 (NVIDIA GeForce RTX 3060, 12053MiB)\n",
      "YOLOv8x-pose-p6 summary (fused): 375 layers, 99141280 parameters, 0 gradients, 266.6 GFLOPs\n",
      "\n",
      "image 1/1 /home/featurize/work/两天搞定关键点检测毕业设计/3-【YOLOV8】关键点检测/images/multi-person.jpeg: 768x1280 14 persons, 99.6ms\n",
      "Speed: 0.8ms preprocess, 99.6ms inference, 3.2ms postprocess per image at shape (1, 3, 1280, 1280)\n",
      "Results saved to \u001b[1mruns/pose/predict\u001b[0m\n"
     ]
    }
   ],
   "source": [
    "!yolo pose predict model=yolov8x-pose-p6.pt source=images/multi-person.jpeg device=0"
   ]
  },
  {
   "cell_type": "markdown",
   "id": "db02832b-357d-4254-82c6-4de0ba137023",
   "metadata": {},
   "source": [
    "## 预测结果保存在`runs`目录"
   ]
  },
  {
   "cell_type": "markdown",
   "id": "cde7f223-197c-46dd-a801-f9bea061fbae",
   "metadata": {},
   "source": [
    "- 备用关键点检测预训练模型\n",
    "\n",
    "yolov8n-pose.pt\n",
    "\n",
    "yolov8s-pose.pt\n",
    "\n",
    "yolov8m-pose.pt\n",
    "\n",
    "yolov8l-pose.pt\n",
    "\n",
    "yolov8x-pose.pt\n",
    "\n",
    "yolov8x-pose-p6.pt"
   ]
  },
  {
   "cell_type": "code",
   "execution_count": null,
   "id": "344846a6-4303-4ec5-bac4-20506e02a36b",
   "metadata": {},
   "outputs": [],
   "source": []
  }
 ],
 "metadata": {
  "kernelspec": {
   "display_name": "Python 3 (ipykernel)",
   "language": "python",
   "name": "python3"
  },
  "language_info": {
   "codemirror_mode": {
    "name": "ipython",
    "version": 3
   },
   "file_extension": ".py",
   "mimetype": "text/x-python",
   "name": "python",
   "nbconvert_exporter": "python",
   "pygments_lexer": "ipython3",
   "version": "3.10.14"
  }
 },
 "nbformat": 4,
 "nbformat_minor": 5
}

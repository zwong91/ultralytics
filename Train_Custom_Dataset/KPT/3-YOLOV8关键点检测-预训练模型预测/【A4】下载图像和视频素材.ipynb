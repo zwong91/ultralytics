{
 "cells": [
  {
   "cell_type": "markdown",
   "id": "4b740763-3e61-4e84-939b-9662bac24b8c",
   "metadata": {},
   "source": [
    "# 下载图像和视频素材\n",
    "\n",
    " 2023-4-25"
   ]
  },
  {
   "cell_type": "markdown",
   "id": "16a2d509-b60e-4e41-9a08-c2bf96d541c3",
   "metadata": {},
   "source": [
    "## 下载测试图像至`images`目录"
   ]
  },
  {
   "cell_type": "code",
   "execution_count": 1,
   "id": "007dbef0-63e2-46b4-b27a-93ec24bd826a",
   "metadata": {},
   "outputs": [
    {
     "name": "stdout",
     "output_type": "stream",
     "text": [
      "--2024-07-17 16:22:30--  https://zihao-openmmlab.obs.cn-east-3.myhuaweicloud.com/20220610-mmpose/images/two_runners.jpg\n",
      "正在解析主机 zihao-openmmlab.obs.cn-east-3.myhuaweicloud.com (zihao-openmmlab.obs.cn-east-3.myhuaweicloud.com)... 121.36.235.132\n",
      "正在连接 zihao-openmmlab.obs.cn-east-3.myhuaweicloud.com (zihao-openmmlab.obs.cn-east-3.myhuaweicloud.com)|121.36.235.132|:443... 已连接。\n",
      "已发出 HTTP 请求，正在等待回应... 200 OK\n",
      "长度：2387969 (2.3M) [image/jpeg]\n",
      "正在保存至: “images/two_runners.jpg”\n",
      "\n",
      "two_runners.jpg     100%[===================>]   2.28M  1.92MB/s  用时 1.2s      \n",
      "\n",
      "2024-07-17 16:22:32 (1.92 MB/s) - 已保存 “images/two_runners.jpg” [2387969/2387969])\n",
      "\n",
      "--2024-07-17 16:22:32--  https://zihao-openmmlab.obs.cn-east-3.myhuaweicloud.com/20220610-mmpose/images/multi-person.jpeg\n",
      "正在解析主机 zihao-openmmlab.obs.cn-east-3.myhuaweicloud.com (zihao-openmmlab.obs.cn-east-3.myhuaweicloud.com)... 121.36.235.132\n",
      "正在连接 zihao-openmmlab.obs.cn-east-3.myhuaweicloud.com (zihao-openmmlab.obs.cn-east-3.myhuaweicloud.com)|121.36.235.132|:443... 已连接。\n",
      "已发出 HTTP 请求，正在等待回应... 200 OK\n",
      "长度：604280 (590K) [image/jpeg]\n",
      "正在保存至: “images/multi-person.jpeg”\n",
      "\n",
      "multi-person.jpeg   100%[===================>] 590.12K  1.39MB/s  用时 0.4s      \n",
      "\n",
      "2024-07-17 16:22:33 (1.39 MB/s) - 已保存 “images/multi-person.jpeg” [604280/604280])\n",
      "\n"
     ]
    }
   ],
   "source": [
    "# 双人跑步，图片来源：https://www.pexels.com/zh-cn/photo/4853112\n",
    "!wget https://zihao-openmmlab.obs.cn-east-3.myhuaweicloud.com/20220610-mmpose/images/two_runners.jpg -P images\n",
    "\n",
    "# 马拉松多人跑步，图片来源：https://www.pexels.com/zh-cn/photo/2168292/\n",
    "!wget https://zihao-openmmlab.obs.cn-east-3.myhuaweicloud.com/20220610-mmpose/images/multi-person.jpeg -P images"
   ]
  },
  {
   "cell_type": "code",
   "execution_count": null,
   "id": "499222bc-3fc6-4a82-b028-a9a1fe8af6f2",
   "metadata": {},
   "outputs": [],
   "source": [
    "# 哈士奇，来源：https://www.pexels.com/zh-cn/photo/2853130/\n",
    "# !wget https://zihao-openmmlab.obs.cn-east-3.myhuaweicloud.com/20220716-mmclassification/test/husky1.jpeg -P images\n",
    "\n",
    "# SB的办公工位，拍摄\n",
    "# !wget https://zihao-download.obs.cn-east-3.myhuaweicloud.com/yolov8/zihao_table.jpg -P images"
   ]
  },
  {
   "cell_type": "code",
   "execution_count": null,
   "id": "ee9cbdc5-4ca6-4bff-ae13-dd750085886a",
   "metadata": {},
   "outputs": [],
   "source": [
    "# 其它图像\n",
    "# https://www.pexels.com/zh-cn/photo/3796804\n",
    "# https://www.pexels.com/zh-cn/photo/4058411\n",
    "# https://www.pexels.com/zh-cn/photo/3822719\n",
    "# https://www.pexels.com/zh-cn/photo/2827392"
   ]
  },
  {
   "cell_type": "markdown",
   "id": "8d7e1c2a-96b6-4c16-ba4b-a6a2bdb2927c",
   "metadata": {},
   "source": [
    "## 下载测试视频至`videos`目录"
   ]
  },
  {
   "cell_type": "code",
   "execution_count": 2,
   "id": "3b24cb5c-b89e-4ecf-9659-7607bcd1ad00",
   "metadata": {},
   "outputs": [
    {
     "name": "stdout",
     "output_type": "stream",
     "text": [
      "--2024-07-17 16:23:42--  https://zihao-openmmlab.obs.myhuaweicloud.com/20220610-mmpose/videos/cxk.mp4\n",
      "正在解析主机 zihao-openmmlab.obs.myhuaweicloud.com (zihao-openmmlab.obs.myhuaweicloud.com)... 121.36.235.132\n",
      "正在连接 zihao-openmmlab.obs.myhuaweicloud.com (zihao-openmmlab.obs.myhuaweicloud.com)|121.36.235.132|:443... 已连接。\n",
      "已发出 HTTP 请求，正在等待回应... 200 OK\n",
      "长度：5535528 (5.3M) [video/mp4]\n",
      "正在保存至: “videos/cxk.mp4”\n",
      "\n",
      "cxk.mp4             100%[===================>]   5.28M  2.39MB/s  用时 2.2s      \n",
      "\n",
      "2024-07-17 16:23:44 (2.39 MB/s) - 已保存 “videos/cxk.mp4” [5535528/5535528])\n",
      "\n",
      "--2024-07-17 16:23:45--  https://zihao-openmmlab.obs.myhuaweicloud.com/20220610-mmpose/videos/mother_wx.mp4\n",
      "正在解析主机 zihao-openmmlab.obs.myhuaweicloud.com (zihao-openmmlab.obs.myhuaweicloud.com)... 121.36.235.132\n",
      "正在连接 zihao-openmmlab.obs.myhuaweicloud.com (zihao-openmmlab.obs.myhuaweicloud.com)|121.36.235.132|:443... 已连接。\n",
      "已发出 HTTP 请求，正在等待回应... 200 OK\n",
      "长度：402665 (393K) [video/mp4]\n",
      "正在保存至: “videos/mother_wx.mp4”\n",
      "\n",
      "mother_wx.mp4       100%[===================>] 393.23K   684KB/s  用时 0.6s      \n",
      "\n",
      "2024-07-17 16:23:48 (684 KB/s) - 已保存 “videos/mother_wx.mp4” [402665/402665])\n",
      "\n"
     ]
    }
   ],
   "source": [
    "# 单人-唱跳篮球\n",
    "!wget https://zihao-openmmlab.obs.myhuaweicloud.com/20220610-mmpose/videos/cxk.mp4 -P videos\n",
    "\n",
    "# 妈妈和女儿跳舞，视频来源：https://mixkit.co/free-stock-video/mother-and-daughters-in-a-kitchen-dancing-4565\n",
    "!wget https://zihao-openmmlab.obs.myhuaweicloud.com/20220610-mmpose/videos/mother_wx.mp4 -P videos"
   ]
  },
  {
   "cell_type": "code",
   "execution_count": null,
   "id": "97b32565-6e5b-435e-bb04-4edc4dc948a1",
   "metadata": {},
   "outputs": [],
   "source": [
    "# 水果道具视频，拍摄\n",
    "# !wget https://zihao-download.obs.cn-east-3.myhuaweicloud.com/yolov8/video_fruits.mp4 -P videos\n",
    "\n",
    "# 玩具熊餐桌道具视频，拍摄\n",
    "# !wget https://zihao-download.obs.cn-east-3.myhuaweicloud.com/yolov8/video_table.mp4 -P videos\n",
    "\n",
    "# 餐具图像分类，拍摄\n",
    "# !wget https://zihao-openmmlab.obs.cn-east-3.myhuaweicloud.com/20220716-mmclassification/test/video_2.mp4 -P videos"
   ]
  },
  {
   "cell_type": "code",
   "execution_count": null,
   "id": "7e797c00-39ac-4245-86fb-b1dc0611316f",
   "metadata": {},
   "outputs": [],
   "source": []
  }
 ],
 "metadata": {
  "kernelspec": {
   "display_name": "Python 3 (ipykernel)",
   "language": "python",
   "name": "python3"
  },
  "language_info": {
   "codemirror_mode": {
    "name": "ipython",
    "version": 3
   },
   "file_extension": ".py",
   "mimetype": "text/x-python",
   "name": "python",
   "nbconvert_exporter": "python",
   "pygments_lexer": "ipython3",
   "version": "3.10.14"
  }
 },
 "nbformat": 4,
 "nbformat_minor": 5
}

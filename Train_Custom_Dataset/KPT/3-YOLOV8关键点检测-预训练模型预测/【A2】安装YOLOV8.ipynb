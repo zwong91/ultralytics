{
 "cells": [
  {
   "cell_type": "markdown",
   "id": "5d31775d-9858-422f-b3e7-b333df407c8b",
   "metadata": {},
   "source": [
    "# 安装YOLOV8\n",
    "\n",
    " 2023-4-15\n",
    "\n",
    "安装YOLOV8环境和所需的第三方工具包"
   ]
  },
  {
   "cell_type": "markdown",
   "id": "8ba9d553-9064-492d-811b-812ff409d8e1",
   "metadata": {},
   "source": [
    "## 安装YOLOV8"
   ]
  },
  {
   "cell_type": "code",
   "execution_count": 7,
   "id": "e3afb786-1343-46fd-82c9-ff2d716c79e0",
   "metadata": {},
   "outputs": [
    {
     "name": "stdout",
     "output_type": "stream",
     "text": [
      "fatal: destination path 'ultralytics' already exists and is not an empty directory.\n",
      "/Users/es/ultralytics-8.2.58/Train_Custom_Dataset/KPT/3-YOLOV8关键点检测-预训练模型预测/ultralytics/ultralytics\n"
     ]
    },
    {
     "name": "stderr",
     "output_type": "stream",
     "text": [
      "/Users/es/miniconda3/envs/ultralytics/lib/python3.10/site-packages/IPython/core/magics/osm.py:417: UserWarning: This is now an optional IPython functionality, setting dhist requires you to install the `pickleshare` library.\n",
      "  self.shell.db['dhist'] = compress_dhist(dhist)[-100:]\n"
     ]
    },
    {
     "name": "stdout",
     "output_type": "stream",
     "text": [
      "HEAD is now at edca88d1 `ultralytics 8.2.58` FastSAM code refactor (#14450)\n",
      "Obtaining file:///Users/es/ultralytics-8.2.58/Train_Custom_Dataset/KPT/3-YOLOV8%E5%85%B3%E9%94%AE%E7%82%B9%E6%A3%80%E6%B5%8B-%E9%A2%84%E8%AE%AD%E7%BB%83%E6%A8%A1%E5%9E%8B%E9%A2%84%E6%B5%8B/ultralytics/ultralytics\n",
      "\u001b[31mERROR: file:///Users/es/ultralytics-8.2.58/Train_Custom_Dataset/KPT/3-YOLOV8%E5%85%B3%E9%94%AE%E7%82%B9%E6%A3%80%E6%B5%8B-%E9%A2%84%E8%AE%AD%E7%BB%83%E6%A8%A1%E5%9E%8B%E9%A2%84%E6%B5%8B/ultralytics/ultralytics does not appear to be a Python project: neither 'setup.py' nor 'pyproject.toml' found.\u001b[0m\u001b[31m\n",
      "\u001b[0mNote: you may need to restart the kernel to use updated packages.\n"
     ]
    }
   ],
   "source": [
    "#%pip install ultralytics --upgrade -i https://pypi.tuna.tsinghua.edu.cn/simple (不推荐)\n",
    "\n",
    "# 源码安装（个人推荐）\n",
    "!git clone https://github.com/ultralytics/ultralytics\n",
    "%cd ultralytics\n",
    "!git fetch --tags\n",
    "# 使用!git tag查看所有标签\n",
    "!git checkout tags/v8.2.58\n",
    "%pip install -e ."
   ]
  },
  {
   "cell_type": "markdown",
   "id": "9823667e-5c29-4e9f-aae3-8f0dea3f5105",
   "metadata": {},
   "source": [
    "## 验证安装成功"
   ]
  },
  {
   "cell_type": "code",
   "execution_count": 8,
   "id": "1de9f7c1-d2bb-4f54-9eb3-2602b806085a",
   "metadata": {},
   "outputs": [
    {
     "name": "stdout",
     "output_type": "stream",
     "text": [
      "Ultralytics YOLOv8.2.58 🚀 Python-3.10.14 torch-2.3.1 CPU (Apple M2)\n",
      "Setup complete ✅ (8 CPUs, 16.0 GB RAM, 216.5/228.3 GB disk)\n"
     ]
    }
   ],
   "source": [
    "import ultralytics\n",
    "ultralytics.checks()"
   ]
  },
  {
   "cell_type": "markdown",
   "id": "78ce4d27-bc9f-4f5e-b3dd-9844733e4549",
   "metadata": {},
   "source": [
    "## 安装其它第三方工具包"
   ]
  },
  {
   "cell_type": "code",
   "execution_count": 9,
   "id": "cf430bb8-4404-40c6-a357-b0bb07f1d7ab",
   "metadata": {},
   "outputs": [
    {
     "name": "stdout",
     "output_type": "stream",
     "text": [
      "Looking in indexes: https://pypi.tuna.tsinghua.edu.cn/simple\n",
      "Requirement already satisfied: numpy in /Users/es/miniconda3/envs/ultralytics/lib/python3.10/site-packages (1.26.4)\n",
      "Requirement already satisfied: opencv-python in /Users/es/miniconda3/envs/ultralytics/lib/python3.10/site-packages (4.10.0.84)\n",
      "Requirement already satisfied: pillow in /Users/es/miniconda3/envs/ultralytics/lib/python3.10/site-packages (10.4.0)\n",
      "Requirement already satisfied: pandas in /Users/es/miniconda3/envs/ultralytics/lib/python3.10/site-packages (2.2.2)\n",
      "Requirement already satisfied: matplotlib in /Users/es/miniconda3/envs/ultralytics/lib/python3.10/site-packages (3.9.1)\n",
      "Requirement already satisfied: seaborn in /Users/es/miniconda3/envs/ultralytics/lib/python3.10/site-packages (0.13.2)\n",
      "Requirement already satisfied: tqdm in /Users/es/miniconda3/envs/ultralytics/lib/python3.10/site-packages (4.66.4)\n",
      "Collecting wandb\n",
      "  Using cached https://pypi.tuna.tsinghua.edu.cn/packages/7f/ba/ecba013c632bdcdcfb986b4df9f4fb98cdf1d61cd0653c203fee2db209a2/wandb-0.17.4-py3-none-macosx_11_0_arm64.whl (6.8 MB)\n",
      "Requirement already satisfied: seedir in /Users/es/miniconda3/envs/ultralytics/lib/python3.10/site-packages (0.5.0)\n",
      "Requirement already satisfied: emoji in /Users/es/miniconda3/envs/ultralytics/lib/python3.10/site-packages (2.12.1)\n",
      "Requirement already satisfied: python-dateutil>=2.8.2 in /Users/es/miniconda3/envs/ultralytics/lib/python3.10/site-packages (from pandas) (2.9.0.post0)\n",
      "Requirement already satisfied: pytz>=2020.1 in /Users/es/miniconda3/envs/ultralytics/lib/python3.10/site-packages (from pandas) (2024.1)\n",
      "Requirement already satisfied: tzdata>=2022.7 in /Users/es/miniconda3/envs/ultralytics/lib/python3.10/site-packages (from pandas) (2024.1)\n",
      "Requirement already satisfied: contourpy>=1.0.1 in /Users/es/miniconda3/envs/ultralytics/lib/python3.10/site-packages (from matplotlib) (1.2.1)\n",
      "Requirement already satisfied: cycler>=0.10 in /Users/es/miniconda3/envs/ultralytics/lib/python3.10/site-packages (from matplotlib) (0.12.1)\n",
      "Requirement already satisfied: fonttools>=4.22.0 in /Users/es/miniconda3/envs/ultralytics/lib/python3.10/site-packages (from matplotlib) (4.53.1)\n",
      "Requirement already satisfied: kiwisolver>=1.3.1 in /Users/es/miniconda3/envs/ultralytics/lib/python3.10/site-packages (from matplotlib) (1.4.5)\n",
      "Requirement already satisfied: packaging>=20.0 in /Users/es/miniconda3/envs/ultralytics/lib/python3.10/site-packages (from matplotlib) (24.1)\n",
      "Requirement already satisfied: pyparsing>=2.3.1 in /Users/es/miniconda3/envs/ultralytics/lib/python3.10/site-packages (from matplotlib) (3.1.2)\n",
      "Requirement already satisfied: click!=8.0.0,>=7.1 in /Users/es/miniconda3/envs/ultralytics/lib/python3.10/site-packages (from wandb) (8.1.7)\n",
      "Requirement already satisfied: docker-pycreds>=0.4.0 in /Users/es/miniconda3/envs/ultralytics/lib/python3.10/site-packages (from wandb) (0.4.0)\n",
      "Requirement already satisfied: gitpython!=3.1.29,>=1.0.0 in /Users/es/miniconda3/envs/ultralytics/lib/python3.10/site-packages (from wandb) (3.1.43)\n",
      "Requirement already satisfied: platformdirs in /Users/es/miniconda3/envs/ultralytics/lib/python3.10/site-packages (from wandb) (4.2.2)\n",
      "Requirement already satisfied: protobuf!=4.21.0,<6,>=3.19.0 in /Users/es/miniconda3/envs/ultralytics/lib/python3.10/site-packages (from wandb) (5.27.2)\n",
      "Requirement already satisfied: psutil>=5.0.0 in /Users/es/miniconda3/envs/ultralytics/lib/python3.10/site-packages (from wandb) (6.0.0)\n",
      "Requirement already satisfied: pyyaml in /Users/es/miniconda3/envs/ultralytics/lib/python3.10/site-packages (from wandb) (6.0.1)\n",
      "Requirement already satisfied: requests<3,>=2.0.0 in /Users/es/miniconda3/envs/ultralytics/lib/python3.10/site-packages (from wandb) (2.32.3)\n",
      "Requirement already satisfied: sentry-sdk>=1.0.0 in /Users/es/miniconda3/envs/ultralytics/lib/python3.10/site-packages (from wandb) (2.10.0)\n",
      "Requirement already satisfied: setproctitle in /Users/es/miniconda3/envs/ultralytics/lib/python3.10/site-packages (from wandb) (1.3.3)\n",
      "Requirement already satisfied: setuptools in /Users/es/miniconda3/envs/ultralytics/lib/python3.10/site-packages (from wandb) (69.5.1)\n",
      "Requirement already satisfied: natsort in /Users/es/miniconda3/envs/ultralytics/lib/python3.10/site-packages (from seedir) (8.4.0)\n",
      "Requirement already satisfied: typing-extensions>=4.7.0 in /Users/es/miniconda3/envs/ultralytics/lib/python3.10/site-packages (from emoji) (4.12.2)\n",
      "Requirement already satisfied: six>=1.4.0 in /Users/es/miniconda3/envs/ultralytics/lib/python3.10/site-packages (from docker-pycreds>=0.4.0->wandb) (1.16.0)\n",
      "Requirement already satisfied: gitdb<5,>=4.0.1 in /Users/es/miniconda3/envs/ultralytics/lib/python3.10/site-packages (from gitpython!=3.1.29,>=1.0.0->wandb) (4.0.11)\n",
      "Requirement already satisfied: charset-normalizer<4,>=2 in /Users/es/miniconda3/envs/ultralytics/lib/python3.10/site-packages (from requests<3,>=2.0.0->wandb) (3.3.2)\n",
      "Requirement already satisfied: idna<4,>=2.5 in /Users/es/miniconda3/envs/ultralytics/lib/python3.10/site-packages (from requests<3,>=2.0.0->wandb) (3.7)\n",
      "Requirement already satisfied: urllib3<3,>=1.21.1 in /Users/es/miniconda3/envs/ultralytics/lib/python3.10/site-packages (from requests<3,>=2.0.0->wandb) (2.2.2)\n",
      "Requirement already satisfied: certifi>=2017.4.17 in /Users/es/miniconda3/envs/ultralytics/lib/python3.10/site-packages (from requests<3,>=2.0.0->wandb) (2024.7.4)\n",
      "Requirement already satisfied: smmap<6,>=3.0.1 in /Users/es/miniconda3/envs/ultralytics/lib/python3.10/site-packages (from gitdb<5,>=4.0.1->gitpython!=3.1.29,>=1.0.0->wandb) (5.0.1)\n",
      "Installing collected packages: wandb\n",
      "Successfully installed wandb-0.17.4\n",
      "Note: you may need to restart the kernel to use updated packages.\n"
     ]
    }
   ],
   "source": [
    "%pip install numpy opencv-python pillow pandas matplotlib seaborn tqdm wandb seedir emoji -i https://pypi.tuna.tsinghua.edu.cn/simple"
   ]
  },
  {
   "cell_type": "code",
   "execution_count": null,
   "id": "6c610437-4506-46e1-b7dc-0b4b48b4a879",
   "metadata": {},
   "outputs": [],
   "source": []
  }
 ],
 "metadata": {
  "kernelspec": {
   "display_name": "Python 3 (ipykernel)",
   "language": "python",
   "name": "python3"
  },
  "language_info": {
   "codemirror_mode": {
    "name": "ipython",
    "version": 3
   },
   "file_extension": ".py",
   "mimetype": "text/x-python",
   "name": "python",
   "nbconvert_exporter": "python",
   "pygments_lexer": "ipython3",
   "version": "3.10.14"
  }
 },
 "nbformat": 4,
 "nbformat_minor": 5
}

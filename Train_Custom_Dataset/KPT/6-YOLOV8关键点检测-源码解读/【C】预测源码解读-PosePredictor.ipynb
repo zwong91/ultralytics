{
 "cells": [
  {
   "cell_type": "markdown",
   "metadata": {},
   "source": [
    "# YOLOV8关键点检测-预测源码解读-PosePredictor\n",
    "\n",
    "2023-5-14"
   ]
  },
  {
   "cell_type": "markdown",
   "metadata": {},
   "source": [
    "## 导入工具包"
   ]
  },
  {
   "cell_type": "code",
   "execution_count": 1,
   "metadata": {},
   "outputs": [],
   "source": [
    "import cv2\n",
    "import numpy as np"
   ]
  },
  {
   "cell_type": "markdown",
   "metadata": {},
   "source": [
    "## 构造预测参数字典overrides"
   ]
  },
  {
   "cell_type": "code",
   "execution_count": 24,
   "metadata": {},
   "outputs": [],
   "source": [
    "overrides = {\n",
    "    'task': 'pose',\n",
    "    'mode': 'predict',\n",
    "    'model': 'Triangle_215_yolov8l_pretrain.pt',\n",
    "    'data': 'Triangle_215.yaml',\n",
    "    'conf': 0.25,\n",
    "    'iou': 0.7,\n",
    "    'imgsz': 640,\n",
    "    'single_cls': False,\n",
    "    'verbose':True\n",
    "}"
   ]
  },
  {
   "cell_type": "markdown",
   "metadata": {},
   "source": [
    "## 生成PosePredictor"
   ]
  },
  {
   "cell_type": "code",
   "execution_count": 27,
   "metadata": {},
   "outputs": [],
   "source": [
    "from ultralytics.models.yolo.pose import PosePredictor\n",
    "predictor = PosePredictor(overrides=overrides)"
   ]
  },
  {
   "cell_type": "markdown",
   "metadata": {},
   "source": [
    "## 输入图像路径推理预测"
   ]
  },
  {
   "cell_type": "code",
   "execution_count": 28,
   "metadata": {},
   "outputs": [],
   "source": [
    "img_path = 'triangle_4.jpg'"
   ]
  },
  {
   "cell_type": "code",
   "execution_count": 29,
   "metadata": {},
   "outputs": [
    {
     "name": "stdout",
     "output_type": "stream",
     "text": [
      "\n",
      "Ultralytics YOLOv8.2.63 🚀 Python-3.10.14 torch-2.3.1 CPU (Apple M2)\n",
      "YOLOv8l-pose summary (fused): 287 layers, 44,457,390 parameters, 0 gradients, 168.5 GFLOPs\n",
      "image 1/1 /Users/es/ultralytics-8.2.58/Train_Custom_Dataset/KPT/6-YOLOV8关键点检测-源码解读/triangle_4.jpg: 448x640 3 sjb_rects, 419.9ms\n",
      "Speed: 9.0ms preprocess, 419.9ms inference, 53.8ms postprocess per image at shape (1, 3, 448, 640)\n",
      "Results saved to \u001b[1m/Users/es/ultralytics-8.2.58/runs/pose/predict5\u001b[0m\n"
     ]
    }
   ],
   "source": [
    "result = predictor(source=img_path)"
   ]
  },
  {
   "cell_type": "code",
   "execution_count": 7,
   "metadata": {},
   "outputs": [],
   "source": [
    "# result[0]"
   ]
  },
  {
   "cell_type": "markdown",
   "metadata": {},
   "source": [
    "## PosePredictor源码\n",
    "\n",
    "`ultralytics/yolo/v8/pose/predict.py`\n",
    "\n",
    "关键点检测预测结果后处理函数`postprocess`\n",
    "\n",
    "`PosePredictor`继承`DetectionPredictor`\n",
    "\n",
    "`DetectionPredictor`源码：`ultralytics/model/yolo/detect/predict.py`\n",
    "\n",
    "`DetectionPredictor`继承`BasePredictor`"
   ]
  },
  {
   "cell_type": "markdown",
   "metadata": {},
   "source": [
    "## BasePredictor源码\n",
    "\n",
    "`ultralytics/yolo/engine/predictor.py`\n",
    "\n",
    "pre_transform、preprocess、postprocess\n",
    "\n",
    "setup_model函数中，定义`AutoBackend`\n",
    "\n",
    "## AutoBackend源码\n",
    "\n",
    "`ultralytics.nn.autobackend.AutoBackend`"
   ]
  },
  {
   "cell_type": "code",
   "execution_count": null,
   "metadata": {},
   "outputs": [],
   "source": []
  }
 ],
 "metadata": {
  "colab": {
   "provenance": []
  },
  "kernelspec": {
   "display_name": "Python 3 (ipykernel)",
   "language": "python",
   "name": "python3"
  },
  "language_info": {
   "codemirror_mode": {
    "name": "ipython",
    "version": 3
   },
   "file_extension": ".py",
   "mimetype": "text/x-python",
   "name": "python",
   "nbconvert_exporter": "python",
   "pygments_lexer": "ipython3",
   "version": "3.10.14"
  }
 },
 "nbformat": 4,
 "nbformat_minor": 4
}

{
 "cells": [
  {
   "cell_type": "markdown",
   "id": "59b49a75-d219-4a19-aeee-a6e3fb51c0f5",
   "metadata": {},
   "source": [
    "# 汇总labelme标注信息-单个labelme标注文件\n",
    "\n",
    " 2023-4-23"
   ]
  },
  {
   "cell_type": "markdown",
   "id": "6254723c-e4af-4977-a299-1b6bb338f513",
   "metadata": {},
   "source": [
    "## 导入工具包"
   ]
  },
  {
   "cell_type": "code",
   "execution_count": 17,
   "id": "2b4d678b-9524-4c3f-9ee7-46ed09d44118",
   "metadata": {},
   "outputs": [],
   "source": [
    "import os\n",
    "import json\n",
    "\n",
    "import numpy as np\n",
    "import pandas as pd\n",
    "import cv2\n",
    "\n",
    "from tqdm import tqdm"
   ]
  },
  {
   "cell_type": "markdown",
   "id": "ac427c26-40f3-4ef5-a60e-b67fc5b275f1",
   "metadata": {},
   "source": [
    "## 创建表格"
   ]
  },
  {
   "cell_type": "code",
   "execution_count": 18,
   "id": "e745dee8-9c12-48f7-b5e1-8587638cba31",
   "metadata": {},
   "outputs": [],
   "source": [
    "df = pd.DataFrame()"
   ]
  },
  {
   "cell_type": "markdown",
   "id": "a9ac0bf9-2faa-405b-bb9d-edc304c8288b",
   "metadata": {},
   "source": [
    "## 读取单个labelme文件"
   ]
  },
  {
   "cell_type": "code",
   "execution_count": 19,
   "id": "475e8269-be3e-48bf-b089-9538f63c4b19",
   "metadata": {},
   "outputs": [],
   "source": [
    "labelme_path = '1_labelme.json'"
   ]
  },
  {
   "cell_type": "code",
   "execution_count": 20,
   "id": "b17d0e7a-b987-4784-9dfe-a67ebfeefb15",
   "metadata": {},
   "outputs": [],
   "source": [
    "with open(labelme_path, 'r', encoding='utf-8') as f:\n",
    "    labelme = json.load(f)"
   ]
  },
  {
   "cell_type": "code",
   "execution_count": 29,
   "id": "76cddab8-f504-4325-adee-f5ef7870b45c",
   "metadata": {},
   "outputs": [],
   "source": [
    "imagePath = labelme['imagePath']\n",
    "imageWidth = labelme['imageWidth']\n",
    "imageHeight = labelme['imageHeight']"
   ]
  },
  {
   "cell_type": "code",
   "execution_count": 30,
   "id": "d33c53d3-359c-432e-97cb-5d434a54b82f",
   "metadata": {},
   "outputs": [
    {
     "name": "stderr",
     "output_type": "stream",
     "text": [
      "  0%|          | 0/10 [00:00<?, ?it/s]\n"
     ]
    },
    {
     "ename": "AttributeError",
     "evalue": "'DataFrame' object has no attribute 'append'",
     "output_type": "error",
     "traceback": [
      "\u001b[0;31m---------------------------------------------------------------------------\u001b[0m",
      "\u001b[0;31mAttributeError\u001b[0m                            Traceback (most recent call last)",
      "\u001b[0;32m/var/folders/39/wllj512d2dv845j_wdx3vctc0000gn/T/ipykernel_64431/998189308.py\u001b[0m in \u001b[0;36m?\u001b[0;34m()\u001b[0m\n\u001b[1;32m     75\u001b[0m         \u001b[0mdf_temp\u001b[0m\u001b[0;34m[\u001b[0m\u001b[0;34m'poly_num_points'\u001b[0m\u001b[0;34m]\u001b[0m \u001b[0;34m=\u001b[0m \u001b[0mpoly_num_points\u001b[0m\u001b[0;34m\u001b[0m\u001b[0;34m\u001b[0m\u001b[0m\n\u001b[1;32m     76\u001b[0m         \u001b[0mdf_temp\u001b[0m\u001b[0;34m[\u001b[0m\u001b[0;34m'poly_area'\u001b[0m\u001b[0;34m]\u001b[0m \u001b[0;34m=\u001b[0m \u001b[0mpoly_area\u001b[0m\u001b[0;34m\u001b[0m\u001b[0;34m\u001b[0m\u001b[0m\n\u001b[1;32m     77\u001b[0m \u001b[0;34m\u001b[0m\u001b[0m\n\u001b[1;32m     78\u001b[0m \u001b[0;34m\u001b[0m\u001b[0m\n\u001b[0;32m---> 79\u001b[0;31m     \u001b[0mdf\u001b[0m \u001b[0;34m=\u001b[0m \u001b[0mdf\u001b[0m\u001b[0;34m.\u001b[0m\u001b[0mappend\u001b[0m\u001b[0;34m(\u001b[0m\u001b[0mdf_temp\u001b[0m\u001b[0;34m,\u001b[0m \u001b[0mignore_index\u001b[0m\u001b[0;34m=\u001b[0m\u001b[0;32mTrue\u001b[0m\u001b[0;34m)\u001b[0m\u001b[0;34m\u001b[0m\u001b[0;34m\u001b[0m\u001b[0m\n\u001b[0m",
      "\u001b[0;32m~/miniconda3/envs/ultralytics/lib/python3.10/site-packages/pandas/core/generic.py\u001b[0m in \u001b[0;36m?\u001b[0;34m(self, name)\u001b[0m\n\u001b[1;32m   6295\u001b[0m             \u001b[0;32mand\u001b[0m \u001b[0mname\u001b[0m \u001b[0;32mnot\u001b[0m \u001b[0;32min\u001b[0m \u001b[0mself\u001b[0m\u001b[0;34m.\u001b[0m\u001b[0m_accessors\u001b[0m\u001b[0;34m\u001b[0m\u001b[0;34m\u001b[0m\u001b[0m\n\u001b[1;32m   6296\u001b[0m             \u001b[0;32mand\u001b[0m \u001b[0mself\u001b[0m\u001b[0;34m.\u001b[0m\u001b[0m_info_axis\u001b[0m\u001b[0;34m.\u001b[0m\u001b[0m_can_hold_identifiers_and_holds_name\u001b[0m\u001b[0;34m(\u001b[0m\u001b[0mname\u001b[0m\u001b[0;34m)\u001b[0m\u001b[0;34m\u001b[0m\u001b[0;34m\u001b[0m\u001b[0m\n\u001b[1;32m   6297\u001b[0m         ):\n\u001b[1;32m   6298\u001b[0m             \u001b[0;32mreturn\u001b[0m \u001b[0mself\u001b[0m\u001b[0;34m[\u001b[0m\u001b[0mname\u001b[0m\u001b[0;34m]\u001b[0m\u001b[0;34m\u001b[0m\u001b[0;34m\u001b[0m\u001b[0m\n\u001b[0;32m-> 6299\u001b[0;31m         \u001b[0;32mreturn\u001b[0m \u001b[0mobject\u001b[0m\u001b[0;34m.\u001b[0m\u001b[0m__getattribute__\u001b[0m\u001b[0;34m(\u001b[0m\u001b[0mself\u001b[0m\u001b[0;34m,\u001b[0m \u001b[0mname\u001b[0m\u001b[0;34m)\u001b[0m\u001b[0;34m\u001b[0m\u001b[0;34m\u001b[0m\u001b[0m\n\u001b[0m",
      "\u001b[0;31mAttributeError\u001b[0m: 'DataFrame' object has no attribute 'append'"
     ]
    }
   ],
   "source": [
    "df_list = []  # 创建一个空列表来收集所有的df_temp\n",
    "for each_ann in tqdm(labelme['shapes']): # 遍历每一个标注\n",
    "    \n",
    "    df_temp = {}\n",
    "    \n",
    "    # 图像信息\n",
    "    df_temp['imagePath'] = imagePath\n",
    "    df_temp['imageWidth'] = imageWidth\n",
    "    df_temp['imageHeight'] = imageHeight\n",
    "    \n",
    "    if each_ann['shape_type'] == 'rectangle': # 筛选出框标注\n",
    "        \n",
    "        # 框的两点坐标\n",
    "        bbox_keypoints = each_ann['points'] \n",
    "        bbox_keypoint_A_xy = bbox_keypoints[0]\n",
    "        bbox_keypoint_B_xy = bbox_keypoints[1]\n",
    "        # 左上角坐标\n",
    "        bbox_top_left_x = int(min(bbox_keypoint_A_xy[0], bbox_keypoint_B_xy[0]))\n",
    "        bbox_top_left_y = int(min(bbox_keypoint_A_xy[1], bbox_keypoint_B_xy[1]))\n",
    "        # 右下角坐标\n",
    "        bbox_bottom_right_x = int(max(bbox_keypoint_A_xy[0], bbox_keypoint_B_xy[0]))\n",
    "        bbox_bottom_right_y = int(max(bbox_keypoint_A_xy[1], bbox_keypoint_B_xy[1]))\n",
    "        \n",
    "        # 标注信息\n",
    "        df_temp['label_type'] = each_ann['shape_type']\n",
    "        df_temp['label'] = each_ann['label'] \n",
    "        \n",
    "        # 框坐标信息\n",
    "        df_temp['bbox_top_left_x'] = bbox_top_left_x\n",
    "        df_temp['bbox_top_left_y'] = bbox_top_left_y\n",
    "        df_temp['bbox_bottom_right_x'] = bbox_bottom_right_x\n",
    "        df_temp['bbox_bottom_right_y'] = bbox_bottom_right_y\n",
    "        df_temp['bbox_width_pix'] = bbox_bottom_right_x - bbox_top_left_x\n",
    "        df_temp['bbox_height_pix'] = bbox_bottom_right_y - bbox_top_left_y\n",
    "        df_temp['bbox_width_norm'] = df_temp['bbox_width_pix'] / df_temp['imageWidth']\n",
    "        df_temp['bbox_height_norm'] = df_temp['bbox_height_pix'] / df_temp['imageHeight']\n",
    "        df_temp['bbox_center_x_pix'] = (bbox_top_left_x + bbox_bottom_right_x) / 2\n",
    "        df_temp['bbox_center_y_pix'] = (bbox_top_left_y + bbox_bottom_right_y) / 2\n",
    "        df_temp['bbox_center_x_norm'] = (bbox_top_left_x + bbox_bottom_right_x) / 2 / df_temp['imageWidth']\n",
    "        df_temp['bbox_center_y_norm'] = (bbox_top_left_y + bbox_bottom_right_y) / 2 / df_temp['imageHeight']\n",
    "        \n",
    "    if each_ann['shape_type'] == 'point': # 筛选出关键点标注\n",
    "        \n",
    "        # 该点的 XY 坐标\n",
    "        kpt_xy = each_ann['points'][0]\n",
    "        kpt_x, kpt_y = int(kpt_xy[0]), int(kpt_xy[1])\n",
    "        \n",
    "        # 标注信息\n",
    "        df_temp['label_type'] = each_ann['shape_type']\n",
    "        df_temp['label'] = each_ann['label'] \n",
    "        \n",
    "        # 关键点坐标信息\n",
    "        df_temp['kpt_x_pix'] = kpt_x\n",
    "        df_temp['kpt_y_pix'] = kpt_y\n",
    "        df_temp['kpt_x_norm'] = kpt_x / df_temp['imageWidth']\n",
    "        df_temp['kpt_y_norm'] = kpt_y / df_temp['imageHeight']\n",
    "        \n",
    "    if each_ann['shape_type'] == 'polygon': # 筛选出多段线（polygon）标注\n",
    "        \n",
    "        poly_points = np.array(each_ann['points']).astype('uint32').tolist() # 该多段线每个点的坐标\n",
    "        poly_num_points = len(poly_points) # 该多段线点的个数\n",
    "        \n",
    "        # 计算多段线区域面积\n",
    "        poly_pts = [np.array(each_ann['points'], np.int32).reshape((-1, 1, 2))] # 该多段线每个点的坐标\n",
    "        img_bgr = cv2.imread(imagePath)\n",
    "        img_zeros = np.zeros(img_bgr.shape[:2], dtype='uint8')\n",
    "        img_mask = cv2.fillPoly(img_zeros, poly_pts, 1)\n",
    "        poly_area = np.sum(img_mask)\n",
    "        \n",
    "        # 标注信息\n",
    "        df_temp['label_type'] = each_ann['shape_type']\n",
    "        df_temp['label'] = each_ann['label']\n",
    "        \n",
    "        # 多段线信息\n",
    "        df_temp['poly_points'] = poly_points\n",
    "        df_temp['poly_num_points'] = poly_num_points\n",
    "        df_temp['poly_area'] = poly_area\n",
    "        \n",
    "        \n",
    "    # 将df_temp添加到列表中\n",
    "    df_list.append(df_temp)\n",
    "\n",
    "# 使用pd.concat将所有的df_temp合并成一个DataFrame\n",
    "df = pd.concat([pd.DataFrame([item]) for item in df_list], ignore_index=True)"
   ]
  },
  {
   "cell_type": "code",
   "execution_count": 26,
   "id": "551515c8-f4af-4ab6-8a69-b5cad9b0b52a",
   "metadata": {},
   "outputs": [
    {
     "data": {
      "text/plain": [
       "RangeIndex(start=0, stop=0, step=1)"
      ]
     },
     "execution_count": 26,
     "metadata": {},
     "output_type": "execute_result"
    }
   ],
   "source": [
    "df.columns"
   ]
  },
  {
   "cell_type": "code",
   "execution_count": 27,
   "id": "08d18790-4b09-46ea-9f8a-d1dbea9194fb",
   "metadata": {},
   "outputs": [
    {
     "data": {
      "text/html": [
       "<div>\n",
       "<style scoped>\n",
       "    .dataframe tbody tr th:only-of-type {\n",
       "        vertical-align: middle;\n",
       "    }\n",
       "\n",
       "    .dataframe tbody tr th {\n",
       "        vertical-align: top;\n",
       "    }\n",
       "\n",
       "    .dataframe thead th {\n",
       "        text-align: right;\n",
       "    }\n",
       "</style>\n",
       "<table border=\"1\" class=\"dataframe\">\n",
       "  <thead>\n",
       "    <tr style=\"text-align: right;\">\n",
       "      <th></th>\n",
       "    </tr>\n",
       "  </thead>\n",
       "  <tbody>\n",
       "  </tbody>\n",
       "</table>\n",
       "</div>"
      ],
      "text/plain": [
       "Empty DataFrame\n",
       "Columns: []\n",
       "Index: []"
      ]
     },
     "execution_count": 27,
     "metadata": {},
     "output_type": "execute_result"
    }
   ],
   "source": [
    "df"
   ]
  },
  {
   "cell_type": "code",
   "execution_count": null,
   "id": "95dbcc0c-5fcc-4110-b51e-c9a7a47b4dfd",
   "metadata": {},
   "outputs": [],
   "source": []
  }
 ],
 "metadata": {
  "kernelspec": {
   "display_name": "Python 3 (ipykernel)",
   "language": "python",
   "name": "python3"
  },
  "language_info": {
   "codemirror_mode": {
    "name": "ipython",
    "version": 3
   },
   "file_extension": ".py",
   "mimetype": "text/x-python",
   "name": "python",
   "nbconvert_exporter": "python",
   "pygments_lexer": "ipython3",
   "version": "3.10.14"
  }
 },
 "nbformat": 4,
 "nbformat_minor": 5
}

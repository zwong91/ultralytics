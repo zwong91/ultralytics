{
 "cells": [
  {
   "cell_type": "markdown",
   "id": "dea36d56",
   "metadata": {},
   "source": [
    "# 安装YOLOV8\n",
    "\n",
    "安装YOLOV8环境和所需的第三方工具包"
   ]
  },
  {
   "cell_type": "markdown",
   "id": "de3aa69a-0627-46af-beb5-5adb4c29283e",
   "metadata": {},
   "source": [
    "## 云GPU环境\n",
    "\n",
    "https://www.runpod.io/\n"
   ]
  },
  {
   "cell_type": "markdown",
   "id": "e4620c53",
   "metadata": {},
   "source": [
    "## 安装YOLOV8"
   ]
  },
  {
   "cell_type": "code",
   "execution_count": 8,
   "id": "05f6af90-fe54-4a4f-8492-9f918f617bc2",
   "metadata": {
    "tags": []
   },
   "outputs": [
    {
     "name": "stdout",
     "output_type": "stream",
     "text": [
      "Looking in indexes: https://pypi.douban.com/simple\n",
      "Requirement already satisfied: ultralytics in /Users/es/miniconda3/envs/ultralytics/lib/python3.10/site-packages (8.2.58)\n",
      "\u001b[33mWARNING: Retrying (Retry(total=4, connect=None, read=None, redirect=None, status=None)) after connection broken by 'ProtocolError('Connection aborted.', RemoteDisconnected('Remote end closed connection without response'))': /simple/ultralytics/\u001b[0m\u001b[33m\n",
      "\u001b[0m\u001b[33mWARNING: Retrying (Retry(total=3, connect=None, read=None, redirect=None, status=None)) after connection broken by 'ProtocolError('Connection aborted.', RemoteDisconnected('Remote end closed connection without response'))': /simple/ultralytics/\u001b[0m\u001b[33m\n",
      "\u001b[0m\u001b[33mWARNING: Retrying (Retry(total=2, connect=None, read=None, redirect=None, status=None)) after connection broken by 'ProtocolError('Connection aborted.', RemoteDisconnected('Remote end closed connection without response'))': /simple/ultralytics/\u001b[0m\u001b[33m\n",
      "\u001b[0m\u001b[33mWARNING: Retrying (Retry(total=1, connect=None, read=None, redirect=None, status=None)) after connection broken by 'ProtocolError('Connection aborted.', RemoteDisconnected('Remote end closed connection without response'))': /simple/ultralytics/\u001b[0m\u001b[33m\n",
      "\u001b[0m\u001b[33mWARNING: Retrying (Retry(total=0, connect=None, read=None, redirect=None, status=None)) after connection broken by 'ProtocolError('Connection aborted.', RemoteDisconnected('Remote end closed connection without response'))': /simple/ultralytics/\u001b[0m\u001b[33m\n",
      "\u001b[0mRequirement already satisfied: numpy<2.0.0,>=1.23.0 in /Users/es/miniconda3/envs/ultralytics/lib/python3.10/site-packages (from ultralytics) (1.26.4)\n",
      "Requirement already satisfied: matplotlib>=3.3.0 in /Users/es/miniconda3/envs/ultralytics/lib/python3.10/site-packages (from ultralytics) (3.9.1)\n",
      "Requirement already satisfied: opencv-python>=4.6.0 in /Users/es/miniconda3/envs/ultralytics/lib/python3.10/site-packages (from ultralytics) (4.10.0.84)\n",
      "Requirement already satisfied: pillow>=7.1.2 in /Users/es/miniconda3/envs/ultralytics/lib/python3.10/site-packages (from ultralytics) (10.4.0)\n",
      "Requirement already satisfied: pyyaml>=5.3.1 in /Users/es/miniconda3/envs/ultralytics/lib/python3.10/site-packages (from ultralytics) (6.0.1)\n",
      "Requirement already satisfied: requests>=2.23.0 in /Users/es/miniconda3/envs/ultralytics/lib/python3.10/site-packages (from ultralytics) (2.32.3)\n",
      "Requirement already satisfied: scipy>=1.4.1 in /Users/es/miniconda3/envs/ultralytics/lib/python3.10/site-packages (from ultralytics) (1.14.0)\n",
      "Requirement already satisfied: torch>=1.8.0 in /Users/es/miniconda3/envs/ultralytics/lib/python3.10/site-packages (from ultralytics) (2.3.1)\n",
      "Requirement already satisfied: torchvision>=0.9.0 in /Users/es/miniconda3/envs/ultralytics/lib/python3.10/site-packages (from ultralytics) (0.18.1)\n",
      "Requirement already satisfied: tqdm>=4.64.0 in /Users/es/miniconda3/envs/ultralytics/lib/python3.10/site-packages (from ultralytics) (4.66.4)\n",
      "Requirement already satisfied: psutil in /Users/es/miniconda3/envs/ultralytics/lib/python3.10/site-packages (from ultralytics) (5.9.0)\n",
      "Requirement already satisfied: py-cpuinfo in /Users/es/miniconda3/envs/ultralytics/lib/python3.10/site-packages (from ultralytics) (9.0.0)\n",
      "Requirement already satisfied: pandas>=1.1.4 in /Users/es/miniconda3/envs/ultralytics/lib/python3.10/site-packages (from ultralytics) (2.2.2)\n",
      "Requirement already satisfied: seaborn>=0.11.0 in /Users/es/miniconda3/envs/ultralytics/lib/python3.10/site-packages (from ultralytics) (0.13.2)\n",
      "Requirement already satisfied: ultralytics-thop>=2.0.0 in /Users/es/miniconda3/envs/ultralytics/lib/python3.10/site-packages (from ultralytics) (2.0.0)\n",
      "Requirement already satisfied: contourpy>=1.0.1 in /Users/es/miniconda3/envs/ultralytics/lib/python3.10/site-packages (from matplotlib>=3.3.0->ultralytics) (1.2.1)\n",
      "Requirement already satisfied: cycler>=0.10 in /Users/es/miniconda3/envs/ultralytics/lib/python3.10/site-packages (from matplotlib>=3.3.0->ultralytics) (0.12.1)\n",
      "Requirement already satisfied: fonttools>=4.22.0 in /Users/es/miniconda3/envs/ultralytics/lib/python3.10/site-packages (from matplotlib>=3.3.0->ultralytics) (4.53.1)\n",
      "Requirement already satisfied: kiwisolver>=1.3.1 in /Users/es/miniconda3/envs/ultralytics/lib/python3.10/site-packages (from matplotlib>=3.3.0->ultralytics) (1.4.5)\n",
      "Requirement already satisfied: packaging>=20.0 in /Users/es/miniconda3/envs/ultralytics/lib/python3.10/site-packages (from matplotlib>=3.3.0->ultralytics) (24.1)\n",
      "Requirement already satisfied: pyparsing>=2.3.1 in /Users/es/miniconda3/envs/ultralytics/lib/python3.10/site-packages (from matplotlib>=3.3.0->ultralytics) (3.1.2)\n",
      "Requirement already satisfied: python-dateutil>=2.7 in /Users/es/miniconda3/envs/ultralytics/lib/python3.10/site-packages (from matplotlib>=3.3.0->ultralytics) (2.9.0)\n",
      "Requirement already satisfied: pytz>=2020.1 in /Users/es/miniconda3/envs/ultralytics/lib/python3.10/site-packages (from pandas>=1.1.4->ultralytics) (2024.1)\n",
      "Requirement already satisfied: tzdata>=2022.7 in /Users/es/miniconda3/envs/ultralytics/lib/python3.10/site-packages (from pandas>=1.1.4->ultralytics) (2024.1)\n",
      "Requirement already satisfied: charset-normalizer<4,>=2 in /Users/es/miniconda3/envs/ultralytics/lib/python3.10/site-packages (from requests>=2.23.0->ultralytics) (3.3.2)\n",
      "Requirement already satisfied: idna<4,>=2.5 in /Users/es/miniconda3/envs/ultralytics/lib/python3.10/site-packages (from requests>=2.23.0->ultralytics) (3.7)\n",
      "Requirement already satisfied: urllib3<3,>=1.21.1 in /Users/es/miniconda3/envs/ultralytics/lib/python3.10/site-packages (from requests>=2.23.0->ultralytics) (2.2.2)\n",
      "Requirement already satisfied: certifi>=2017.4.17 in /Users/es/miniconda3/envs/ultralytics/lib/python3.10/site-packages (from requests>=2.23.0->ultralytics) (2024.7.4)\n",
      "Requirement already satisfied: filelock in /Users/es/miniconda3/envs/ultralytics/lib/python3.10/site-packages (from torch>=1.8.0->ultralytics) (3.15.4)\n",
      "Requirement already satisfied: typing-extensions>=4.8.0 in /Users/es/miniconda3/envs/ultralytics/lib/python3.10/site-packages (from torch>=1.8.0->ultralytics) (4.12.2)\n",
      "Requirement already satisfied: sympy in /Users/es/miniconda3/envs/ultralytics/lib/python3.10/site-packages (from torch>=1.8.0->ultralytics) (1.13.0)\n",
      "Requirement already satisfied: networkx in /Users/es/miniconda3/envs/ultralytics/lib/python3.10/site-packages (from torch>=1.8.0->ultralytics) (3.3)\n",
      "Requirement already satisfied: jinja2 in /Users/es/miniconda3/envs/ultralytics/lib/python3.10/site-packages (from torch>=1.8.0->ultralytics) (3.1.4)\n",
      "Requirement already satisfied: fsspec in /Users/es/miniconda3/envs/ultralytics/lib/python3.10/site-packages (from torch>=1.8.0->ultralytics) (2024.6.1)\n",
      "Requirement already satisfied: six>=1.5 in /Users/es/miniconda3/envs/ultralytics/lib/python3.10/site-packages (from python-dateutil>=2.7->matplotlib>=3.3.0->ultralytics) (1.16.0)\n",
      "Requirement already satisfied: MarkupSafe>=2.0 in /Users/es/miniconda3/envs/ultralytics/lib/python3.10/site-packages (from jinja2->torch>=1.8.0->ultralytics) (2.1.5)\n",
      "Requirement already satisfied: mpmath<1.4,>=1.1.0 in /Users/es/miniconda3/envs/ultralytics/lib/python3.10/site-packages (from sympy->torch>=1.8.0->ultralytics) (1.3.0)\n",
      "Note: you may need to restart the kernel to use updated packages.\n"
     ]
    }
   ],
   "source": [
    "%pip install ultralytics --upgrade -i https://pypi.douban.com/simple"
   ]
  },
  {
   "cell_type": "markdown",
   "id": "0661fcc5",
   "metadata": {},
   "source": [
    "## 验证安装成功"
   ]
  },
  {
   "cell_type": "code",
   "execution_count": 9,
   "id": "f575e9f3",
   "metadata": {
    "tags": []
   },
   "outputs": [
    {
     "name": "stdout",
     "output_type": "stream",
     "text": [
      "Ultralytics YOLOv8.2.58 🚀 Python-3.10.14 torch-2.3.1 CPU (Apple M2)\n",
      "Setup complete ✅ (8 CPUs, 16.0 GB RAM, 216.5/228.3 GB disk)\n"
     ]
    }
   ],
   "source": [
    "import ultralytics\n",
    "ultralytics.checks()"
   ]
  },
  {
   "cell_type": "markdown",
   "id": "bf16e24c",
   "metadata": {},
   "source": [
    "## 安装其它第三方工具包"
   ]
  },
  {
   "cell_type": "code",
   "execution_count": 10,
   "id": "e7315eb7",
   "metadata": {
    "tags": []
   },
   "outputs": [
    {
     "name": "stdout",
     "output_type": "stream",
     "text": [
      "Looking in indexes: https://pypi.tuna.tsinghua.edu.cn/simple\n",
      "Requirement already satisfied: numpy in /Users/es/miniconda3/envs/ultralytics/lib/python3.10/site-packages (1.26.4)\n",
      "Requirement already satisfied: opencv-python in /Users/es/miniconda3/envs/ultralytics/lib/python3.10/site-packages (4.10.0.84)\n",
      "Requirement already satisfied: pillow in /Users/es/miniconda3/envs/ultralytics/lib/python3.10/site-packages (10.4.0)\n",
      "Requirement already satisfied: pandas in /Users/es/miniconda3/envs/ultralytics/lib/python3.10/site-packages (2.2.2)\n",
      "Requirement already satisfied: matplotlib in /Users/es/miniconda3/envs/ultralytics/lib/python3.10/site-packages (3.9.1)\n",
      "Requirement already satisfied: seaborn in /Users/es/miniconda3/envs/ultralytics/lib/python3.10/site-packages (0.13.2)\n",
      "Requirement already satisfied: tqdm in /Users/es/miniconda3/envs/ultralytics/lib/python3.10/site-packages (4.66.4)\n",
      "Requirement already satisfied: lap in /Users/es/miniconda3/envs/ultralytics/lib/python3.10/site-packages (0.4.0)\n",
      "Requirement already satisfied: python-dateutil>=2.8.2 in /Users/es/miniconda3/envs/ultralytics/lib/python3.10/site-packages (from pandas) (2.9.0)\n",
      "Requirement already satisfied: pytz>=2020.1 in /Users/es/miniconda3/envs/ultralytics/lib/python3.10/site-packages (from pandas) (2024.1)\n",
      "Requirement already satisfied: tzdata>=2022.7 in /Users/es/miniconda3/envs/ultralytics/lib/python3.10/site-packages (from pandas) (2024.1)\n",
      "Requirement already satisfied: contourpy>=1.0.1 in /Users/es/miniconda3/envs/ultralytics/lib/python3.10/site-packages (from matplotlib) (1.2.1)\n",
      "Requirement already satisfied: cycler>=0.10 in /Users/es/miniconda3/envs/ultralytics/lib/python3.10/site-packages (from matplotlib) (0.12.1)\n",
      "Requirement already satisfied: fonttools>=4.22.0 in /Users/es/miniconda3/envs/ultralytics/lib/python3.10/site-packages (from matplotlib) (4.53.1)\n",
      "Requirement already satisfied: kiwisolver>=1.3.1 in /Users/es/miniconda3/envs/ultralytics/lib/python3.10/site-packages (from matplotlib) (1.4.5)\n",
      "Requirement already satisfied: packaging>=20.0 in /Users/es/miniconda3/envs/ultralytics/lib/python3.10/site-packages (from matplotlib) (24.1)\n",
      "Requirement already satisfied: pyparsing>=2.3.1 in /Users/es/miniconda3/envs/ultralytics/lib/python3.10/site-packages (from matplotlib) (3.1.2)\n",
      "Requirement already satisfied: six>=1.5 in /Users/es/miniconda3/envs/ultralytics/lib/python3.10/site-packages (from python-dateutil>=2.8.2->pandas) (1.16.0)\n",
      "Note: you may need to restart the kernel to use updated packages.\n"
     ]
    }
   ],
   "source": [
    "%pip install numpy opencv-python pillow pandas matplotlib seaborn tqdm lap -i https://pypi.tuna.tsinghua.edu.cn/simple"
   ]
  },
  {
   "cell_type": "markdown",
   "id": "67e13264",
   "metadata": {},
   "source": [
    "## 安装Roboflow Supervision"
   ]
  },
  {
   "cell_type": "code",
   "execution_count": 11,
   "id": "dc6363cd",
   "metadata": {
    "tags": []
   },
   "outputs": [
    {
     "name": "stdout",
     "output_type": "stream",
     "text": [
      "Requirement already satisfied: supervision in /Users/es/miniconda3/envs/ultralytics/lib/python3.10/site-packages (0.22.0)\n",
      "Requirement already satisfied: defusedxml<0.8.0,>=0.7.1 in /Users/es/miniconda3/envs/ultralytics/lib/python3.10/site-packages (from supervision) (0.7.1)\n",
      "Requirement already satisfied: matplotlib>=3.6.0 in /Users/es/miniconda3/envs/ultralytics/lib/python3.10/site-packages (from supervision) (3.9.1)\n",
      "Requirement already satisfied: numpy>=1.21.2 in /Users/es/miniconda3/envs/ultralytics/lib/python3.10/site-packages (from supervision) (1.26.4)\n",
      "Requirement already satisfied: opencv-python-headless>=4.5.5.64 in /Users/es/miniconda3/envs/ultralytics/lib/python3.10/site-packages (from supervision) (4.10.0.84)\n",
      "Requirement already satisfied: pillow>=9.4 in /Users/es/miniconda3/envs/ultralytics/lib/python3.10/site-packages (from supervision) (10.4.0)\n",
      "Requirement already satisfied: pyyaml>=5.3 in /Users/es/miniconda3/envs/ultralytics/lib/python3.10/site-packages (from supervision) (6.0.1)\n",
      "Requirement already satisfied: scipy<2.0.0,>=1.10.0 in /Users/es/miniconda3/envs/ultralytics/lib/python3.10/site-packages (from supervision) (1.14.0)\n",
      "Requirement already satisfied: contourpy>=1.0.1 in /Users/es/miniconda3/envs/ultralytics/lib/python3.10/site-packages (from matplotlib>=3.6.0->supervision) (1.2.1)\n",
      "Requirement already satisfied: cycler>=0.10 in /Users/es/miniconda3/envs/ultralytics/lib/python3.10/site-packages (from matplotlib>=3.6.0->supervision) (0.12.1)\n",
      "Requirement already satisfied: fonttools>=4.22.0 in /Users/es/miniconda3/envs/ultralytics/lib/python3.10/site-packages (from matplotlib>=3.6.0->supervision) (4.53.1)\n",
      "Requirement already satisfied: kiwisolver>=1.3.1 in /Users/es/miniconda3/envs/ultralytics/lib/python3.10/site-packages (from matplotlib>=3.6.0->supervision) (1.4.5)\n",
      "Requirement already satisfied: packaging>=20.0 in /Users/es/miniconda3/envs/ultralytics/lib/python3.10/site-packages (from matplotlib>=3.6.0->supervision) (24.1)\n",
      "Requirement already satisfied: pyparsing>=2.3.1 in /Users/es/miniconda3/envs/ultralytics/lib/python3.10/site-packages (from matplotlib>=3.6.0->supervision) (3.1.2)\n",
      "Requirement already satisfied: python-dateutil>=2.7 in /Users/es/miniconda3/envs/ultralytics/lib/python3.10/site-packages (from matplotlib>=3.6.0->supervision) (2.9.0)\n",
      "Requirement already satisfied: six>=1.5 in /Users/es/miniconda3/envs/ultralytics/lib/python3.10/site-packages (from python-dateutil>=2.7->matplotlib>=3.6.0->supervision) (1.16.0)\n",
      "Note: you may need to restart the kernel to use updated packages.\n"
     ]
    }
   ],
   "source": [
    "%pip install supervision"
   ]
  },
  {
   "cell_type": "markdown",
   "id": "e1a13555-2afa-4645-a6a6-4796668977d3",
   "metadata": {},
   "source": [
    "## 下载待测视频至`videos`目录中"
   ]
  },
  {
   "cell_type": "code",
   "execution_count": 12,
   "id": "4d076a07-4bfb-4700-8454-ddeba53d0526",
   "metadata": {
    "tags": []
   },
   "outputs": [
    {
     "ename": "FileExistsError",
     "evalue": "[Errno 17] File exists: 'videos'",
     "output_type": "error",
     "traceback": [
      "\u001b[0;31m---------------------------------------------------------------------------\u001b[0m",
      "\u001b[0;31mFileExistsError\u001b[0m                           Traceback (most recent call last)",
      "Cell \u001b[0;32mIn[12], line 2\u001b[0m\n\u001b[1;32m      1\u001b[0m \u001b[38;5;28;01mimport\u001b[39;00m \u001b[38;5;21;01mos\u001b[39;00m\n\u001b[0;32m----> 2\u001b[0m \u001b[43mos\u001b[49m\u001b[38;5;241;43m.\u001b[39;49m\u001b[43mmkdir\u001b[49m\u001b[43m(\u001b[49m\u001b[38;5;124;43m'\u001b[39;49m\u001b[38;5;124;43mvideos\u001b[39;49m\u001b[38;5;124;43m'\u001b[39;49m\u001b[43m)\u001b[49m\n",
      "\u001b[0;31mFileExistsError\u001b[0m: [Errno 17] File exists: 'videos'"
     ]
    }
   ],
   "source": [
    "import os\n",
    "os.mkdir('videos')"
   ]
  },
  {
   "cell_type": "code",
   "execution_count": 6,
   "id": "f91f2b94-e16c-4cbd-bbbb-dd2e1cee60ff",
   "metadata": {
    "tags": []
   },
   "outputs": [
    {
     "name": "stdout",
     "output_type": "stream",
     "text": [
      "--2024-07-17 19:45:36--  https://zihao-openmmlab.obs.cn-east-3.myhuaweicloud.com/20230502-YOLO/videos/video_fruits.mp4\n",
      "正在解析主机 zihao-openmmlab.obs.cn-east-3.myhuaweicloud.com (zihao-openmmlab.obs.cn-east-3.myhuaweicloud.com)... 121.36.235.132\n",
      "正在连接 zihao-openmmlab.obs.cn-east-3.myhuaweicloud.com (zihao-openmmlab.obs.cn-east-3.myhuaweicloud.com)|121.36.235.132|:443... 已连接。\n",
      "已发出 HTTP 请求，正在等待回应... 200 OK\n",
      "长度：11955536 (11M) [video/mp4]\n",
      "正在保存至: “videos/video_fruits.mp4”\n",
      "\n",
      "video_fruits.mp4     86%[================>   ]   9.83M   954KB/s  用时 61s       \n",
      "\n",
      "2024-07-17 19:46:38 (165 KB/s) - 在 10305536 字节处连接关闭。重试中。\n",
      "\n",
      "--2024-07-17 19:46:39--  (尝试次数： 2)  https://zihao-openmmlab.obs.cn-east-3.myhuaweicloud.com/20230502-YOLO/videos/video_fruits.mp4\n",
      "正在连接 zihao-openmmlab.obs.cn-east-3.myhuaweicloud.com (zihao-openmmlab.obs.cn-east-3.myhuaweicloud.com)|121.36.235.132|:443... 已连接。\n",
      "已发出 HTTP 请求，正在等待回应... 206 Partial Content\n",
      "长度：11955536 (11M)，剩余 1650000 (1.6M) [video/mp4]\n",
      "正在保存至: “videos/video_fruits.mp4”\n",
      "\n",
      "video_fruits.mp4    100%[+++++++++++++++++==>]  11.40M  1.35MB/s  用时 1.2s      \n",
      "\n",
      "2024-07-17 19:46:42 (1.35 MB/s) - 已保存 “videos/video_fruits.mp4” [11955536/11955536])\n",
      "\n",
      "--2024-07-17 19:46:43--  https://zihao-openmmlab.obs.cn-east-3.myhuaweicloud.com/20230502-YOLO/videos/video_table.mp4\n",
      "正在解析主机 zihao-openmmlab.obs.cn-east-3.myhuaweicloud.com (zihao-openmmlab.obs.cn-east-3.myhuaweicloud.com)... 121.36.235.132\n",
      "正在连接 zihao-openmmlab.obs.cn-east-3.myhuaweicloud.com (zihao-openmmlab.obs.cn-east-3.myhuaweicloud.com)|121.36.235.132|:443... 已连接。\n",
      "已发出 HTTP 请求，正在等待回应... 200 OK\n",
      "长度：15912344 (15M) [video/mp4]\n",
      "正在保存至: “videos/video_table.mp4”\n",
      "\n",
      "video_table.mp4     100%[===================>]  15.17M  4.25MB/s  用时 3.6s      \n",
      "\n",
      "2024-07-17 19:46:47 (4.25 MB/s) - 已保存 “videos/video_table.mp4” [15912344/15912344])\n",
      "\n",
      "--2024-07-17 19:46:47--  https://zihao-openmmlab.obs.cn-east-3.myhuaweicloud.com/20220418-mmtracking/data/mot_people_short.mp4\n",
      "正在解析主机 zihao-openmmlab.obs.cn-east-3.myhuaweicloud.com (zihao-openmmlab.obs.cn-east-3.myhuaweicloud.com)... 121.36.235.132\n",
      "正在连接 zihao-openmmlab.obs.cn-east-3.myhuaweicloud.com (zihao-openmmlab.obs.cn-east-3.myhuaweicloud.com)|121.36.235.132|:443... 已连接。\n",
      "已发出 HTTP 请求，正在等待回应... 200 OK\n",
      "长度：1392164 (1.3M) [video/mp4]\n",
      "正在保存至: “videos/mot_people_short.mp4”\n",
      "\n",
      "mot_people_short.mp 100%[===================>]   1.33M  2.26MB/s  用时 0.6s      \n",
      "\n",
      "2024-07-17 19:46:49 (2.26 MB/s) - 已保存 “videos/mot_people_short.mp4” [1392164/1392164])\n",
      "\n",
      "--2024-07-17 19:46:50--  https://zihao-openmmlab.obs.cn-east-3.myhuaweicloud.com/20220418-mmtracking/data/mot_people_medium.mp4\n",
      "正在解析主机 zihao-openmmlab.obs.cn-east-3.myhuaweicloud.com (zihao-openmmlab.obs.cn-east-3.myhuaweicloud.com)... 121.36.235.132\n",
      "正在连接 zihao-openmmlab.obs.cn-east-3.myhuaweicloud.com (zihao-openmmlab.obs.cn-east-3.myhuaweicloud.com)|121.36.235.132|:443... 已连接。\n",
      "已发出 HTTP 请求，正在等待回应... 200 OK\n",
      "长度：11447206 (11M) [video/mp4]\n",
      "正在保存至: “videos/mot_people_medium.mp4”\n",
      "\n",
      "mot_people_medium.m 100%[===================>]  10.92M  4.82MB/s  用时 2.3s      \n",
      "\n",
      "2024-07-17 19:46:52 (4.82 MB/s) - 已保存 “videos/mot_people_medium.mp4” [11447206/11447206])\n",
      "\n",
      "--2024-07-17 19:46:53--  https://zihao-openmmlab.obs.cn-east-3.myhuaweicloud.com/20220418-mmtracking/data/mot_people_long.mp4\n",
      "正在解析主机 zihao-openmmlab.obs.cn-east-3.myhuaweicloud.com (zihao-openmmlab.obs.cn-east-3.myhuaweicloud.com)... 121.36.235.132\n",
      "正在连接 zihao-openmmlab.obs.cn-east-3.myhuaweicloud.com (zihao-openmmlab.obs.cn-east-3.myhuaweicloud.com)|121.36.235.132|:443... 已连接。\n",
      "已发出 HTTP 请求，正在等待回应... 200 OK\n",
      "长度：109529289 (104M) [video/mp4]\n",
      "正在保存至: “videos/mot_people_long.mp4”\n",
      "\n",
      "mot_people_long.mp4 100%[===================>] 104.46M  3.71MB/s  用时 31s       \n",
      "\n",
      "2024-07-17 19:47:24 (3.37 MB/s) - 已保存 “videos/mot_people_long.mp4” [109529289/109529289])\n",
      "\n",
      "--2024-07-17 19:47:24--  https://zihao-openmmlab.obs.cn-east-3.myhuaweicloud.com/20230502-YOLO/videos/line_count_1.mp4\n",
      "正在解析主机 zihao-openmmlab.obs.cn-east-3.myhuaweicloud.com (zihao-openmmlab.obs.cn-east-3.myhuaweicloud.com)... 121.36.235.132\n",
      "正在连接 zihao-openmmlab.obs.cn-east-3.myhuaweicloud.com (zihao-openmmlab.obs.cn-east-3.myhuaweicloud.com)|121.36.235.132|:443... 已连接。\n",
      "已发出 HTTP 请求，正在等待回应... 200 OK\n",
      "长度：35345757 (34M) [video/mp4]\n",
      "正在保存至: “videos/line_count_1.mp4”\n",
      "\n",
      "line_count_1.mp4    100%[===================>]  33.71M  7.49MB/s  用时 5.1s      \n",
      "\n",
      "2024-07-17 19:47:31 (6.65 MB/s) - 已保存 “videos/line_count_1.mp4” [35345757/35345757])\n",
      "\n",
      "--2024-07-17 19:47:31--  https://zihao-openmmlab.obs.cn-east-3.myhuaweicloud.com/20230502-YOLO/videos/line_count_2.mp4\n",
      "正在解析主机 zihao-openmmlab.obs.cn-east-3.myhuaweicloud.com (zihao-openmmlab.obs.cn-east-3.myhuaweicloud.com)... 121.36.235.132\n",
      "正在连接 zihao-openmmlab.obs.cn-east-3.myhuaweicloud.com (zihao-openmmlab.obs.cn-east-3.myhuaweicloud.com)|121.36.235.132|:443... 已连接。\n",
      "已发出 HTTP 请求，正在等待回应... 200 OK\n",
      "长度：29501799 (28M) [video/mp4]\n",
      "正在保存至: “videos/line_count_2.mp4”\n",
      "\n",
      "line_count_2.mp4    100%[===================>]  28.13M  4.82MB/s  用时 8.9s      \n",
      "\n",
      "2024-07-17 19:47:40 (3.15 MB/s) - 已保存 “videos/line_count_2.mp4” [29501799/29501799])\n",
      "\n",
      "--2024-07-17 19:47:40--  https://zihao-openmmlab.obs.cn-east-3.myhuaweicloud.com/20230502-YOLO/videos/bridge-short.mp4\n",
      "正在解析主机 zihao-openmmlab.obs.cn-east-3.myhuaweicloud.com (zihao-openmmlab.obs.cn-east-3.myhuaweicloud.com)... 121.36.235.132\n",
      "正在连接 zihao-openmmlab.obs.cn-east-3.myhuaweicloud.com (zihao-openmmlab.obs.cn-east-3.myhuaweicloud.com)|121.36.235.132|:443... 已连接。\n",
      "已发出 HTTP 请求，正在等待回应... 200 OK\n",
      "长度：2598541 (2.5M) [video/mp4]\n",
      "正在保存至: “videos/bridge-short.mp4”\n",
      "\n",
      "bridge-short.mp4    100%[===================>]   2.48M  2.72MB/s  用时 0.9s      \n",
      "\n",
      "2024-07-17 19:47:43 (2.72 MB/s) - 已保存 “videos/bridge-short.mp4” [2598541/2598541])\n",
      "\n",
      "--2024-07-17 19:47:43--  https://zihao-openmmlab.obs.cn-east-3.myhuaweicloud.com/20230502-YOLO/videos/bridge-long.mp4\n",
      "正在解析主机 zihao-openmmlab.obs.cn-east-3.myhuaweicloud.com (zihao-openmmlab.obs.cn-east-3.myhuaweicloud.com)... 121.36.235.132\n",
      "正在连接 zihao-openmmlab.obs.cn-east-3.myhuaweicloud.com (zihao-openmmlab.obs.cn-east-3.myhuaweicloud.com)|121.36.235.132|:443... 已连接。\n",
      "已发出 HTTP 请求，正在等待回应... 200 OK\n",
      "长度：29782444 (28M) [video/mp4]\n",
      "正在保存至: “videos/bridge-long.mp4”\n",
      "\n",
      "bridge-long.mp4     100%[===================>]  28.40M  2.74MB/s  用时 8.4s      \n",
      "\n",
      "2024-07-17 19:47:52 (3.38 MB/s) - 已保存 “videos/bridge-long.mp4” [29782444/29782444])\n",
      "\n"
     ]
    }
   ],
   "source": [
    "# 水果-文具视频\n",
    "!wget https://zihao-openmmlab.obs.cn-east-3.myhuaweicloud.com/20230502-YOLO/videos/video_fruits.mp4 -P videos\n",
    "\n",
    "# 玩具视频\n",
    "!wget https://zihao-openmmlab.obs.cn-east-3.myhuaweicloud.com/20230502-YOLO/videos/video_table.mp4 -P videos\n",
    "\n",
    "#人流量视频-短\n",
    "!wget https://zihao-openmmlab.obs.cn-east-3.myhuaweicloud.com/20220418-mmtracking/data/mot_people_short.mp4 -P videos\n",
    "\n",
    "# 人流量视频-中\n",
    "!wget https://zihao-openmmlab.obs.cn-east-3.myhuaweicloud.com/20220418-mmtracking/data/mot_people_medium.mp4 -P videos\n",
    "\n",
    "# 人流量视频-长\n",
    "!wget https://zihao-openmmlab.obs.cn-east-3.myhuaweicloud.com/20220418-mmtracking/data/mot_people_long.mp4 -P videos\n",
    "\n",
    "# 车流量视频-简单场景\n",
    "!wget https://zihao-openmmlab.obs.cn-east-3.myhuaweicloud.com/20230502-YOLO/videos/line_count_1.mp4 -P videos\n",
    "\n",
    "# 车流量视频-上海漕河泾宜山路隧道\n",
    "!wget https://zihao-openmmlab.obs.cn-east-3.myhuaweicloud.com/20230502-YOLO/videos/line_count_2.mp4 -P videos\n",
    "\n",
    "# 车流量视频-桥下-短\n",
    "!wget https://zihao-openmmlab.obs.cn-east-3.myhuaweicloud.com/20230502-YOLO/videos/bridge-short.mp4 -P videos\n",
    "\n",
    "# 车流量视频-桥下-长\n",
    "!wget https://zihao-openmmlab.obs.cn-east-3.myhuaweicloud.com/20230502-YOLO/videos/bridge-long.mp4 -P videos"
   ]
  },
  {
   "cell_type": "code",
   "execution_count": null,
   "id": "bba71f3e-9503-4070-b54c-e53c78bb3552",
   "metadata": {},
   "outputs": [],
   "source": []
  }
 ],
 "metadata": {
  "kernelspec": {
   "display_name": "Python 3 (ipykernel)",
   "language": "python",
   "name": "python3"
  },
  "language_info": {
   "codemirror_mode": {
    "name": "ipython",
    "version": 3
   },
   "file_extension": ".py",
   "mimetype": "text/x-python",
   "name": "python",
   "nbconvert_exporter": "python",
   "pygments_lexer": "ipython3",
   "version": "3.10.14"
  }
 },
 "nbformat": 4,
 "nbformat_minor": 5
}

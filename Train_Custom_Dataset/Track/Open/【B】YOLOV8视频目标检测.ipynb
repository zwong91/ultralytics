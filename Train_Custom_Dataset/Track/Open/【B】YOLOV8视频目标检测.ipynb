{
 "cells": [
  {
   "cell_type": "markdown",
   "id": "31aa8d77-797a-4fdd-b27e-8d65be5a1ade",
   "metadata": {},
   "source": [
    "# YOLOV8视频目标检测\n"
   ]
  },
  {
   "cell_type": "markdown",
   "id": "4838e15f-43af-4615-b4de-8edbd25260fe",
   "metadata": {},
   "source": [
    "## 获取GPU个数"
   ]
  },
  {
   "cell_type": "code",
   "execution_count": 2,
   "id": "ed6d24af-dc11-4fa7-bc7e-8084e35d471e",
   "metadata": {
    "tags": []
   },
   "outputs": [
    {
     "data": {
      "text/plain": [
       "0"
      ]
     },
     "execution_count": 2,
     "metadata": {},
     "output_type": "execute_result"
    }
   ],
   "source": [
    "import torch\n",
    "torch.cuda.device_count()"
   ]
  },
  {
   "cell_type": "markdown",
   "id": "1ee71c70-e7a9-4bc3-9cea-a6306fd42e8c",
   "metadata": {},
   "source": [
    "## 单卡GPU推理"
   ]
  },
  {
   "cell_type": "code",
   "execution_count": 3,
   "id": "0cc9e6f9-f9a0-4dab-bc92-4a83190aac62",
   "metadata": {
    "tags": []
   },
   "outputs": [
    {
     "name": "stdout",
     "output_type": "stream",
     "text": [
      "Downloading https://github.com/ultralytics/assets/releases/download/v8.2.0/yolov8x.pt to 'yolov8x.pt'...\n",
      "  0%|                                      | 256k/131M [00:23<3:40:56, 10.3kB/s]^C\n",
      "  0%|                                      | 256k/131M [00:23<3:25:51, 11.1kB/s]\n",
      "Traceback (most recent call last):\n",
      "  File \"/Users/es/miniconda3/envs/ultralytics/bin/yolo\", line 8, in <module>\n",
      "    sys.exit(entrypoint())\n",
      "  File \"/Users/es/miniconda3/envs/ultralytics/lib/python3.10/site-packages/ultralytics/cfg/__init__.py\", line 681, in entrypoint\n",
      "    model = YOLO(model, task=task)\n",
      "  File \"/Users/es/miniconda3/envs/ultralytics/lib/python3.10/site-packages/ultralytics/models/yolo/model.py\", line 23, in __init__\n",
      "    super().__init__(model=model, task=task, verbose=verbose)\n",
      "  File \"/Users/es/miniconda3/envs/ultralytics/lib/python3.10/site-packages/ultralytics/engine/model.py\", line 149, in __init__\n",
      "    self._load(model, task=task)\n",
      "  File \"/Users/es/miniconda3/envs/ultralytics/lib/python3.10/site-packages/ultralytics/engine/model.py\", line 230, in _load\n",
      "    self.model, self.ckpt = attempt_load_one_weight(weights)\n",
      "  File \"/Users/es/miniconda3/envs/ultralytics/lib/python3.10/site-packages/ultralytics/nn/tasks.py\", line 855, in attempt_load_one_weight\n",
      "    ckpt, weight = torch_safe_load(weight)  # load ckpt\n",
      "  File \"/Users/es/miniconda3/envs/ultralytics/lib/python3.10/site-packages/ultralytics/nn/tasks.py\", line 768, in torch_safe_load\n",
      "    file = attempt_download_asset(weight)  # search online if missing locally\n",
      "  File \"/Users/es/miniconda3/envs/ultralytics/lib/python3.10/site-packages/ultralytics/utils/downloads.py\", line 454, in attempt_download_asset\n",
      "    safe_download(url=f\"{download_url}/{release}/{name}\", file=file, min_bytes=1e5, **kwargs)\n",
      "  File \"/Users/es/miniconda3/envs/ultralytics/lib/python3.10/site-packages/ultralytics/utils/downloads.py\", line 340, in safe_download\n",
      "    torch.hub.download_url_to_file(url, f, progress=progress)\n",
      "  File \"/Users/es/miniconda3/envs/ultralytics/lib/python3.10/site-packages/torch/hub.py\", line 653, in download_url_to_file\n",
      "    buffer = u.read(READ_DATA_CHUNK)\n",
      "  File \"/Users/es/miniconda3/envs/ultralytics/lib/python3.10/http/client.py\", line 466, in read\n",
      "    s = self.fp.read(amt)\n",
      "  File \"/Users/es/miniconda3/envs/ultralytics/lib/python3.10/socket.py\", line 705, in readinto\n",
      "    return self._sock.recv_into(b)\n",
      "  File \"/Users/es/miniconda3/envs/ultralytics/lib/python3.10/ssl.py\", line 1307, in recv_into\n",
      "    return self.read(nbytes, buffer)\n",
      "  File \"/Users/es/miniconda3/envs/ultralytics/lib/python3.10/ssl.py\", line 1163, in read\n",
      "    return self._sslobj.read(len, buffer)\n",
      "KeyboardInterrupt\n",
      "CPU times: user 266 ms, sys: 83.9 ms, total: 350 ms\n",
      "Wall time: 30.3 s\n"
     ]
    }
   ],
   "source": [
    "%%time\n",
    "!yolo detect predict model=yolov8x.pt source=videos/video_table.mp4 verbose=False device=0"
   ]
  },
  {
   "cell_type": "markdown",
   "id": "2247e0d5-fc67-4e01-a490-b41dfc61e7d8",
   "metadata": {},
   "source": [
    "## 多卡GPU推理"
   ]
  },
  {
   "cell_type": "code",
   "execution_count": 6,
   "id": "3228365b-b951-4a12-86cf-1087efed9a7d",
   "metadata": {
    "tags": []
   },
   "outputs": [
    {
     "name": "stdout",
     "output_type": "stream",
     "text": [
      "Ultralytics YOLOv8.0.114 🚀 Python-3.8.10 torch-1.10.0+cu111 CUDA:0 (B1.gpu.xlarge, 24118MiB)\n",
      "                                                             CUDA:1 (B1.gpu.xlarge, 24118MiB)\n",
      "YOLOv8x summary (fused): 268 layers, 68200608 parameters, 0 gradients\n",
      "Results saved to \u001b[1mruns/detect/predict3\u001b[0m\n",
      "\u001b[0mCPU times: user 926 ms, sys: 196 ms, total: 1.12 s\n",
      "Wall time: 55.9 s\n"
     ]
    }
   ],
   "source": [
    "%%time\n",
    "!yolo detect predict model=yolov8x.pt source=videos/video_table.mp4 verbose=False device=0,1"
   ]
  },
  {
   "cell_type": "markdown",
   "id": "d261dc32-5680-4c4a-8ae7-b5d4fb91091d",
   "metadata": {},
   "source": [
    "## CPU推理"
   ]
  },
  {
   "cell_type": "code",
   "execution_count": 5,
   "id": "d13d1837-86b2-43f4-8f0c-5f12bf56c88d",
   "metadata": {},
   "outputs": [
    {
     "name": "stdout",
     "output_type": "stream",
     "text": [
      "Downloading https://github.com/ultralytics/assets/releases/download/v8.2.0/yolov8x.pt to 'yolov8x.pt'...\n",
      "  0%|▏                                     | 512k/131M [01:03<5:08:12, 7.37kB/s]"
     ]
    }
   ],
   "source": [
    "%%time\n",
    "!yolo detect predict model=yolov8x.pt source=videos/video_table.mp4 verbose=False device=cpu"
   ]
  },
  {
   "cell_type": "markdown",
   "id": "f23301ac-6635-4347-8dbb-65acd2297fc1",
   "metadata": {},
   "source": [
    "## GPU推理预测耗时仅有CPU的四分之一到二分之一"
   ]
  },
  {
   "cell_type": "markdown",
   "id": "f19417a3-6247-4ca5-8768-fb21825f99e3",
   "metadata": {},
   "source": [
    "## 换成`videos`文件夹的其它视频，或者你自己的视频，看看效果吧~"
   ]
  },
  {
   "cell_type": "code",
   "execution_count": null,
   "id": "d9be1a6b-c06b-45b9-9894-83c4419b360a",
   "metadata": {},
   "outputs": [],
   "source": []
  }
 ],
 "metadata": {
  "kernelspec": {
   "display_name": "Python 3 (ipykernel)",
   "language": "python",
   "name": "python3"
  },
  "language_info": {
   "codemirror_mode": {
    "name": "ipython",
    "version": 3
   },
   "file_extension": ".py",
   "mimetype": "text/x-python",
   "name": "python",
   "nbconvert_exporter": "python",
   "pygments_lexer": "ipython3",
   "version": "3.10.14"
  }
 },
 "nbformat": 4,
 "nbformat_minor": 5
}

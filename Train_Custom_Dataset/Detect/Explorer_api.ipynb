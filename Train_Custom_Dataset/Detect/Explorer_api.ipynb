{
 "cells": [
  {
   "cell_type": "markdown",
   "metadata": {},
   "source": [
    "# 1. Setup\n",
    "Ultralytics Explorer API \n",
    "探索数据集并利用语义搜索的强大功能, 使用向量搜索甚至 SQL 查询来检查特定类型的标签\n",
    "* 相似性搜索 vector search + semantic search : 查找数据集中与给定数据点相似的图像。\n",
    "* 自然语言搜索 NL: 使用自然语言描述您要查找的数据点。\n",
    "* SQL 查询queries: 使用 SQL 查询对数据集执行复杂的数据分析。\n",
    "* 相似度指数 index: 估计每个数据点与数据集中其余部分的相似程度。"
   ]
  },
  {
   "cell_type": "code",
   "execution_count": null,
   "metadata": {},
   "outputs": [],
   "source": [
    "# 导入必要库\n",
    "%pip install ultralytics[explorer] openai\n",
    "import ultralytics\n",
    "ultralytics.checks()"
   ]
  },
  {
   "cell_type": "code",
   "execution_count": null,
   "metadata": {},
   "outputs": [],
   "source": [
    "from ultralytics import Explorer"
   ]
  },
  {
   "cell_type": "markdown",
   "metadata": {},
   "source": [
    "# Similarity search"
   ]
  },
  {
   "cell_type": "code",
   "execution_count": 8,
   "metadata": {},
   "outputs": [
    {
     "name": "stdout",
     "output_type": "stream",
     "text": [
      "\u001b[31m\u001b[1mrequirements:\u001b[0m Ultralytics requirements ['lancedb>=0.4.3', 'duckdb<=0.9.2'] not found, attempting AutoUpdate...\n"
     ]
    }
   ],
   "source": [
    "# 创建一个 Explorer 对象并加载您的数据集\n",
    "exp = Explorer(\"VOC.yaml\", model=\"yolov8n.pt\")\n",
    "# 创建嵌入表\n",
    "exp.create_embeddings_table()"
   ]
  },
  {
   "cell_type": "code",
   "execution_count": null,
   "metadata": {},
   "outputs": [],
   "source": [
    "# 根据索引搜索相似图像（相似性搜索）\n",
    "similar = exp.get_similar(idx=1, limit=10)\n",
    "# similar = exp.get_similar(img=[\"path/to/img1\", \"path/to/img2\"], limit=10)\n",
    "similar.head()"
   ]
  },
  {
   "cell_type": "code",
   "execution_count": null,
   "metadata": {},
   "outputs": [],
   "source": [
    "# 绘制相似样本\n",
    "exp.plot_similar(idx=6500, limit=20)\n",
    "#exp.plot_similar(idx=[100,101], limit=10) # Can also pass list of idxs or imgs\n"
   ]
  },
  {
   "cell_type": "code",
   "execution_count": null,
   "metadata": {},
   "outputs": [],
   "source": [
    "exp.plot_similar(img=\"https://ultralytics.com/images/bus.jpg\", limit=10, labels=False) # Can also pass any external images"
   ]
  },
  {
   "cell_type": "markdown",
   "metadata": {},
   "source": [
    "# 2. Ask AI: Search or filter with Natural Language"
   ]
  },
  {
   "cell_type": "code",
   "execution_count": null,
   "metadata": {},
   "outputs": [],
   "source": [
    "# 使用 ask_ai() 函数 自然语言搜索数据\n",
    "df = exp.ask_ai(\"show me images containing more than 10 objects with at least 2 persons\")\n",
    "df.head(5)"
   ]
  },
  {
   "cell_type": "code",
   "execution_count": null,
   "metadata": {},
   "outputs": [],
   "source": [
    "# plot 绘制搜索结果\n",
    "from ultralytics.data.explorer import plot_query_result\n",
    "from PIL import Image\n",
    "\n",
    "plt = plot_query_result(exp.ask_ai(\"show me 10 images containing exactly 2 persons\"))\n",
    "Image.fromarray(plt)"
   ]
  },
  {
   "cell_type": "markdown",
   "metadata": {},
   "source": [
    "# 3. Run SQL queries on your Dataset!"
   ]
  },
  {
   "cell_type": "code",
   "execution_count": null,
   "metadata": {},
   "outputs": [],
   "source": [
    "# 使用 sql_query() 函数对数据集执行 SQL 查询\n",
    "table = exp.sql_query(\"WHERE labels LIKE '%person, person%' AND labels LIKE '%dog%' LIMIT 10\")\n",
    "table"
   ]
  },
  {
   "cell_type": "code",
   "execution_count": null,
   "metadata": {},
   "outputs": [],
   "source": [
    "exp.plot_sql_query(\"WHERE labels LIKE '%person, person%' AND labels LIKE '%dog%' LIMIT 10\", labels=True)"
   ]
  },
  {
   "cell_type": "code",
   "execution_count": null,
   "metadata": {},
   "outputs": [],
   "source": [
    "# Working with embeddings Table (Advanced)   LanceDB tables\n",
    "# 使用 Explorer.table 对象直接访问底层 LanceDB 嵌入表\n",
    "# 运行原始查询、推送前置和后置过滤器等\n",
    "table = exp.table\n",
    "table.schema"
   ]
  },
  {
   "cell_type": "code",
   "execution_count": null,
   "metadata": {},
   "outputs": [],
   "source": [
    "# LanceDB 中，一个 Metric 就是对向量对之间距离的描述方式\n",
    "# L2\n",
    "# Cosine 余弦\n",
    "# Dot Explorer's similarity search uses L2 by default. \n",
    "\n",
    "dummy_img_embedding = [i for i in range(256)]\n",
    "# 运行原始查询 raw quiery\n",
    "table.search(dummy_img_embedding).limit(5).to_pandas()"
   ]
  },
  {
   "cell_type": "code",
   "execution_count": null,
   "metadata": {},
   "outputs": [],
   "source": [
    "# Inter-conversion to popular data formats\n",
    "df = table.to_pandas()\n",
    "pa_table = table.to_arrow()"
   ]
  },
  {
   "cell_type": "code",
   "execution_count": null,
   "metadata": {},
   "outputs": [],
   "source": [
    "# the raw embedding from lancedb Table and analyse it 图片嵌入存储在列 vector 中\n",
    "import numpy as np\n",
    "\n",
    "embeddings = table.to_pandas()[\"vector\"].tolist()\n",
    "embeddings = np.array(embeddings)"
   ]
  },
  {
   "cell_type": "code",
   "execution_count": null,
   "metadata": {},
   "outputs": [],
   "source": [
    "# 通过降维2D 空间中绘制Scatterplot 散点图\n",
    "%pip install scikit-learn --q"
   ]
  },
  {
   "cell_type": "code",
   "execution_count": null,
   "metadata": {},
   "outputs": [],
   "source": [
    "%matplotlib inline\n",
    "import numpy as np\n",
    "from sklearn.decomposition import PCA\n",
    "import matplotlib.pyplot as plt\n",
    "from mpl_toolkits.mplot3d import Axes3D\n",
    "\n",
    "# Reduce dimensions using PCA to 3 components for visualization in 3D\n",
    "pca = PCA(n_components=3)\n",
    "reduced_data = pca.fit_transform(embeddings)\n",
    "\n",
    "# Create a 3D scatter plot using Matplotlib's Axes3D\n",
    "fig = plt.figure(figsize=(8, 6))\n",
    "ax = fig.add_subplot(111, projection='3d')\n",
    "\n",
    "# Scatter plot\n",
    "ax.scatter(reduced_data[:, 0], reduced_data[:, 1], reduced_data[:, 2], alpha=0.5)\n",
    "ax.set_title('3D Scatter Plot of Reduced 256-Dimensional Data (PCA)')\n",
    "ax.set_xlabel('Component 1')\n",
    "ax.set_ylabel('Component 2')\n",
    "ax.set_zlabel('Component 3')\n",
    "\n",
    "plt.show()"
   ]
  },
  {
   "cell_type": "markdown",
   "metadata": {},
   "source": [
    "# 4. Similarity Index 相似度指数"
   ]
  },
  {
   "cell_type": "code",
   "execution_count": null,
   "metadata": {},
   "outputs": [],
   "source": [
    "# 估计每个数据点与数据集的其他部分是相似的程度, \n",
    "# 计算在生成的嵌入空间中，有多少图像嵌入位于当前图像的 max_dist 距离内来实现的，每次考虑 top_k 个相似图像\n",
    "# embeddings lie closer than max_dist to the current image in the generated embedding space, \n",
    "# considering top_k similar images at a time.\n",
    "exp.plot_similarity_index(max_dist=0.2, top_k=0.01)"
   ]
  },
  {
   "cell_type": "code",
   "execution_count": null,
   "metadata": {},
   "outputs": [],
   "source": [
    "# 绘制相似度指数\n",
    "import numpy as np\n",
    "\n",
    "sim_idx = exp.similarity_index(max_dist=0.2, top_k=0.01, force=False)"
   ]
  },
  {
   "cell_type": "code",
   "execution_count": null,
   "metadata": {},
   "outputs": [],
   "source": [
    "sim_idx"
   ]
  },
  {
   "cell_type": "code",
   "execution_count": null,
   "metadata": {},
   "outputs": [],
   "source": [
    "import numpy as np\n",
    "\n",
    "sim_count = np.array(sim_idx[\"count\"])\n",
    "sim_idx['im_file'][sim_count > 30]"
   ]
  },
  {
   "cell_type": "code",
   "execution_count": null,
   "metadata": {},
   "outputs": [],
   "source": [
    "exp.plot_similar(idx=[7146, 14035]) # Using avg embeddings of 2 images"
   ]
  }
 ],
 "metadata": {
  "kernelspec": {
   "display_name": "ultralytics",
   "language": "python",
   "name": "python3"
  },
  "language_info": {
   "codemirror_mode": {
    "name": "ipython",
    "version": 3
   },
   "file_extension": ".py",
   "mimetype": "text/x-python",
   "name": "python",
   "nbconvert_exporter": "python",
   "pygments_lexer": "ipython3",
   "version": "3.10.14"
  }
 },
 "nbformat": 4,
 "nbformat_minor": 2
}

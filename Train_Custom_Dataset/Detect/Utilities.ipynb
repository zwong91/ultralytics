{
 "cells": [
  {
   "cell_type": "markdown",
   "metadata": {},
   "source": [
    "# 1. Auto Labeling / Annotations 自动标注工具"
   ]
  },
  {
   "cell_type": "code",
   "execution_count": null,
   "metadata": {},
   "outputs": [],
   "source": [
    "from ultralytics.data.annotator import auto_annotate\n",
    "\n",
    "auto_annotate(  \n",
    "    data=\"path/to/new/data\",\n",
    "    det_model=\"yolov8n.pt\",\n",
    "    sam_model=\"mobile_sam.pt\",\n",
    "    device=\"cuda\",\n",
    "    output_dir=\"path/to/save_labels\",\n",
    ")"
   ]
  },
  {
   "cell_type": "markdown",
   "metadata": {},
   "source": [
    "# 2. Convert COCO into YOLO Format"
   ]
  },
  {
   "cell_type": "code",
   "execution_count": null,
   "metadata": {},
   "outputs": [],
   "source": [
    "from ultralytics.data.converter import convert_coco\n",
    "\n",
    "convert_coco(  \n",
    "    \"../datasets/coco/annotations/\",\n",
    "    use_segments=False,\n",
    "    use_keypoints=False,\n",
    "    cls91to80=True,\n",
    ")"
   ]
  },
  {
   "cell_type": "markdown",
   "metadata": {},
   "source": []
  },
  {
   "cell_type": "markdown",
   "metadata": {},
   "source": [
    "# 3. Image Compression"
   ]
  },
  {
   "cell_type": "code",
   "execution_count": null,
   "metadata": {},
   "outputs": [],
   "source": [
    "from pathlib import Path\n",
    "\n",
    "from ultralytics.data.utils import compress_one_image\n",
    "\n",
    "# 图像压缩: 在保持纵横比和质量的同时，将单个图像文件压缩到更小的尺寸。\n",
    "for f in Path(\"path/to/dataset\").rglob(\"*.jpg\"):\n",
    "    compress_one_image(f)"
   ]
  },
  {
   "cell_type": "markdown",
   "metadata": {},
   "source": [
    "# 4. Auto-split Dataset"
   ]
  },
  {
   "cell_type": "code",
   "execution_count": null,
   "metadata": {},
   "outputs": [],
   "source": [
    "#自动分割数据集: 将数据集自动分割成 训练/验证/测试 集，并将结果保存到 autosplit_*.txt 文件中\n",
    "from ultralytics.data.utils import autosplit\n",
    "\n",
    "autosplit(  \n",
    "    path=\"path/to/images\",\n",
    "    weights=(0.9, 0.1, 0.0),  # (train, validation, test) fractional splits\n",
    "    annotated_only=False,  # split only images with annotation file when True\n",
    ")"
   ]
  },
  {
   "cell_type": "markdown",
   "metadata": {},
   "source": [
    "# 5. Code Profiling"
   ]
  },
  {
   "cell_type": "code",
   "execution_count": null,
   "metadata": {},
   "outputs": [],
   "source": [
    "from ultralytics.utils.ops import Profile\n",
    "\n",
    "with Profile(device=\"cuda:0\") as dt:\n",
    "    pass  # operation to measure\n",
    "\n",
    "print(dt)\n",
    "# >>> \"Elapsed time is 9.5367431640625e-07 s\""
   ]
  },
  {
   "cell_type": "markdown",
   "metadata": {},
   "source": [
    "# 6. Ultralytics Supported Formats"
   ]
  },
  {
   "cell_type": "code",
   "execution_count": null,
   "metadata": {},
   "outputs": [],
   "source": [
    "from ultralytics.data.utils import IMG_FORMATS, VID_FORMATS\n",
    "\n",
    "print(IMG_FORMATS)\n",
    "# {'tiff', 'pfm', 'bmp', 'mpo', 'dng', 'jpeg', 'png', 'webp', 'tif', 'jpg'}\n",
    "\n",
    "print(VID_FORMATS)\n",
    "# {'avi', 'mpg', 'wmv', 'mpeg', 'm4v', 'mov', 'mp4', 'asf', 'mkv', 'ts', 'gif', 'webm'}"
   ]
  },
  {
   "cell_type": "markdown",
   "metadata": {},
   "source": [
    "# 7. Advanced Customization Low-Level"
   ]
  },
  {
   "cell_type": "code",
   "execution_count": null,
   "metadata": {},
   "outputs": [],
   "source": [
    "from ultralytics.models.yolo.detect import DetectionTrainer\n",
    "\n",
    "# Example override dictionary\n",
    "overrides = {\n",
    "    \"batch_size\": 16,\n",
    "    \"img_size\": 640,\n",
    "}\n",
    "\n",
    "# DetectionTrainer\n",
    "trainer = DetectionTrainer(overrides=overrides)\n",
    "trainer.train()\n",
    "trained_model = trainer.best  # get best model"
   ]
  },
  {
   "cell_type": "code",
   "execution_count": null,
   "metadata": {},
   "outputs": [],
   "source": [
    "from ultralytics.models.yolo.detect import DetectionTrainer\n",
    "\n",
    "\n",
    "class CustomTrainer(DetectionTrainer):\n",
    "    def get_model(self, cfg, weights):\n",
    "        \"\"\"Loads a custom detection model given configuration and weight files.\"\"\"\n",
    "        ...\n",
    "\n",
    "\n",
    "trainer = CustomTrainer(overrides={...})\n",
    "trainer.train()"
   ]
  },
  {
   "cell_type": "code",
   "execution_count": null,
   "metadata": {},
   "outputs": [],
   "source": [
    "from ultralytics.models.yolo.detect import DetectionTrainer\n",
    "from ultralytics.nn.tasks import DetectionModel\n",
    "\n",
    "import yaml\n",
    "\n",
    "# Load your args.yaml content into a dictionary\n",
    "with open('path/to/your/args.yaml', 'r') as file:\n",
    "    yaml_content = yaml.safe_load(file)\n",
    "\n",
    "class MyCustomModel(DetectionModel):\n",
    "    def init_criterion(self):\n",
    "        \"\"\"Initializes the loss function and adds a callback for uploading the model to Google Drive every 10 epochs.\"\"\"\n",
    "        ...\n",
    "\n",
    "\n",
    "class CustomTrainer(DetectionTrainer):\n",
    "    def get_model(self, cfg, weights):\n",
    "        \"\"\"Returns a customized detection model instance configured with specified config and weights.\"\"\"\n",
    "        return MyCustomModel(...)\n",
    "\n",
    "\n",
    "# callback to upload model weights\n",
    "def log_model(trainer):\n",
    "    \"\"\"Logs the path of the last model weight used by the trainer.\"\"\"\n",
    "    last_weight_path = trainer.last\n",
    "    print(last_weight_path)\n",
    "\n",
    "\n",
    "trainer = CustomTrainer(overrides={...})\n",
    "trainer.add_callback(\"on_train_epoch_end\", log_model)  # Adds to existing callback\n",
    "trainer.train()"
   ]
  }
 ],
 "metadata": {
  "kernelspec": {
   "display_name": "ultralytics",
   "language": "python",
   "name": "python3"
  },
  "language_info": {
   "name": "python",
   "version": "3.10.14"
  }
 },
 "nbformat": 4,
 "nbformat_minor": 2
}

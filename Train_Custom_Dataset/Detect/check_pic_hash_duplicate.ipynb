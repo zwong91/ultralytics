{
 "cells": [
  {
   "cell_type": "code",
   "execution_count": 1,
   "metadata": {},
   "outputs": [
    {
     "name": "stdout",
     "output_type": "stream",
     "text": [
      "Requirement already satisfied: Pillow in /Users/es/miniconda3/envs/llama/lib/python3.11/site-packages (10.4.0)\n",
      "Collecting ImageHash\n",
      "  Downloading ImageHash-4.3.1-py2.py3-none-any.whl.metadata (8.0 kB)\n",
      "Collecting PyWavelets (from ImageHash)\n",
      "  Downloading pywavelets-1.6.0-cp311-cp311-macosx_11_0_arm64.whl.metadata (9.0 kB)\n",
      "Requirement already satisfied: numpy in /Users/es/miniconda3/envs/llama/lib/python3.11/site-packages (from ImageHash) (2.0.0)\n",
      "Collecting scipy (from ImageHash)\n",
      "  Downloading scipy-1.14.0-cp311-cp311-macosx_14_0_arm64.whl.metadata (60 kB)\n",
      "\u001b[2K     \u001b[38;2;114;156;31m━━━━━━━━━━━━━━━━━━━━━━━━━━━━━━━━━━━━━━━━\u001b[0m \u001b[32m60.8/60.8 kB\u001b[0m \u001b[31m8.6 kB/s\u001b[0m eta \u001b[36m0:00:00\u001b[0m[31m6.4 kB/s\u001b[0m eta \u001b[36m0:00:04\u001b[0m\n",
      "\u001b[?25hDownloading ImageHash-4.3.1-py2.py3-none-any.whl (296 kB)\n",
      "\u001b[2K   \u001b[38;2;114;156;31m━━━━━━━━━━━━━━━━━━━━━━━━━━━━━━━━━━━━━━━━\u001b[0m \u001b[32m296.5/296.5 kB\u001b[0m \u001b[31m7.9 kB/s\u001b[0m eta \u001b[36m0:00:00\u001b[0m kB/s\u001b[0m eta \u001b[36m0:00:03\u001b[0m:06\u001b[0m\n",
      "\u001b[?25hDownloading pywavelets-1.6.0-cp311-cp311-macosx_11_0_arm64.whl (4.3 MB)\n",
      "\u001b[2K   \u001b[38;2;249;38;114m━━━━━━\u001b[0m\u001b[38;5;237m╺\u001b[0m\u001b[38;5;237m━━━━━━━━━━━━━━━━━━━━━━━━━━━━━━━━━\u001b[0m \u001b[32m0.7/4.3 MB\u001b[0m \u001b[31m9.4 kB/s\u001b[0m eta \u001b[36m0:06:28\u001b[0mm19\u001b[0mm"
     ]
    }
   ],
   "source": [
    "%pip install Pillow ImageHash"
   ]
  },
  {
   "cell_type": "code",
   "execution_count": null,
   "metadata": {},
   "outputs": [],
   "source": [
    "import os\n",
    "from PIL import Image\n",
    "import imagehash\n",
    "\n",
    "def find_duplicate_images(directory):\n",
    "    hashes = {}\n",
    "    duplicates = []\n",
    "\n",
    "    for root, dirs, files in os.walk(directory):\n",
    "        for filename in files:\n",
    "            if filename.endswith(('png', 'jpg', 'jpeg', 'gif', 'bmp')):\n",
    "                filepath = os.path.join(root, filename)\n",
    "                with Image.open(filepath) as img:\n",
    "                    img_hash = imagehash.average_hash(img)\n",
    "                    if img_hash in hashes:\n",
    "                        duplicates.append((filename, hashes[img_hash]))\n",
    "                    else:\n",
    "                        hashes[img_hash] = filename\n",
    "\n",
    "    return duplicates\n",
    "\n",
    "directory = 'datasets/poker'\n",
    "duplicates = find_duplicate_images(directory)\n",
    "\n",
    "if duplicates:\n",
    "    print(\"找到重复的图片:\")\n",
    "    for dup in duplicates:\n",
    "        print(f\"{dup[0]} 和 {dup[1]}\")\n",
    "else:\n",
    "    print(\"没有找到重复的图片。\")"
   ]
  }
 ],
 "metadata": {
  "kernelspec": {
   "display_name": "llama",
   "language": "python",
   "name": "python3"
  },
  "language_info": {
   "codemirror_mode": {
    "name": "ipython",
    "version": 3
   },
   "file_extension": ".py",
   "mimetype": "text/x-python",
   "name": "python",
   "nbconvert_exporter": "python",
   "pygments_lexer": "ipython3",
   "version": "3.11.9"
  }
 },
 "nbformat": 4,
 "nbformat_minor": 2
}

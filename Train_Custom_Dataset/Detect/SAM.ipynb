{
 "cells": [
  {
   "cell_type": "markdown",
   "metadata": {},
   "source": [
    "# Meta Segment Anything Model (SAM) 使用 SAM 进行自动标注（分割）\n",
    "\n",
    "\n",
    "SAM 模型采用了一种基于 Transformer 的架构， “自动标注”功能可以利用预训练的检测模型自动生成分割掩码"
   ]
  },
  {
   "cell_type": "code",
   "execution_count": 2,
   "metadata": {},
   "outputs": [
    {
     "name": "stdout",
     "output_type": "stream",
     "text": [
      "Downloading https://github.com/ultralytics/assets/releases/download/v8.2.0/sam_b.pt to 'sam_b.pt'...\n"
     ]
    },
    {
     "name": "stderr",
     "output_type": "stream",
     "text": [
      "  5%|▍         | 17.0M/358M [06:33<1:55:26, 51.6kB/s]"
     ]
    }
   ],
   "source": [
    "# 利用图像和提示编码器以及轻量级掩码解码器，根据空间或文本线索等各种提示生成高质量的分割掩码\n",
    "# 灵活的提示可以使用各种输入提示，例如点、边界框或文本。\n",
    "# 实时掩码计算以及分割任务中的歧义感知, 零样本学习能力，这使其能够分割以前从未见过的对象。\n",
    "from ultralytics import SAM\n",
    "\n",
    "# 加载模型\n",
    "model = SAM(\"sam_b.pt\")\n",
    "\n",
    "# 使用边界框提示进行分割\n",
    "model(\"ultralytics/assets/zidane.jpg\", bboxes=[439, 437, 524, 709])\n",
    "\n",
    "# 使用点提示进行分割（使用带有边界框或点等各种提示）\n",
    "model(\"ultralytics/assets/zidane.jpg\", points=[900, 370], labels=[1])"
   ]
  },
  {
   "cell_type": "code",
   "execution_count": null,
   "metadata": {},
   "outputs": [],
   "source": [
    "# 使用 SAM 自动标注我的数据集\n",
    "from ultralytics.data.annotator import auto_annotate\n",
    "auto_annotate(data=\"path/to/images\", det_model=\"yolov8x.pt\", sam_model=\"sam_b.pt\")"
   ]
  }
 ],
 "metadata": {
  "kernelspec": {
   "display_name": "ultralytics",
   "language": "python",
   "name": "python3"
  },
  "language_info": {
   "codemirror_mode": {
    "name": "ipython",
    "version": 3
   },
   "file_extension": ".py",
   "mimetype": "text/x-python",
   "name": "python",
   "nbconvert_exporter": "python",
   "pygments_lexer": "ipython3",
   "version": "3.10.14"
  }
 },
 "nbformat": 4,
 "nbformat_minor": 2
}
